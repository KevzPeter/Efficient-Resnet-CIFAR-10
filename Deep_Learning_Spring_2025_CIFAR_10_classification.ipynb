{
 "cells": [
  {
   "cell_type": "code",
   "execution_count": 13,
   "metadata": {
    "id": "o7-y0qVDEpyx"
   },
   "outputs": [],
   "source": [
    "import numpy as np\n",
    "import pandas as pd\n",
    "import torch\n",
    "import torch.nn as nn\n",
    "import torch.optim as optim\n",
    "import torch.nn.functional as F\n",
    "import torchvision\n",
    "import torchvision.transforms as transforms\n",
    "from torch.utils.data import DataLoader, random_split, Dataset, Subset\n",
    "import matplotlib.pyplot as plt\n",
    "import os\n",
    "from PIL import Image\n",
    "import pickle\n",
    "from torchvision.transforms import ToPILImage, RandomErasing, ColorJitter\n",
    "from torchsummary import summary\n",
    "from datetime import datetime\n",
    "from millify import millify\n",
    "import random\n",
    "import scipy.stats as stats"
   ]
  },
  {
   "cell_type": "code",
   "execution_count": null,
   "metadata": {
    "colab": {
     "base_uri": "https://localhost:8080/"
    },
    "id": "yN48h5X-lgVW",
    "outputId": "a5da4b74-131e-4812-8c38-09f6f76ed87b"
   },
   "outputs": [
    {
     "name": "stdout",
     "output_type": "stream",
     "text": [
      "Archive:  deep-learning-spring-2025-project-1.zip\n",
      "  inflating: cifar-10-python/cifar-10-batches-py/batches.meta  \n",
      "  inflating: cifar-10-python/cifar-10-batches-py/data_batch_1  \n",
      "  inflating: cifar-10-python/cifar-10-batches-py/data_batch_2  \n",
      "  inflating: cifar-10-python/cifar-10-batches-py/data_batch_3  \n",
      "  inflating: cifar-10-python/cifar-10-batches-py/data_batch_4  \n",
      "  inflating: cifar-10-python/cifar-10-batches-py/data_batch_5  \n",
      "  inflating: cifar-10-python/cifar-10-batches-py/readme.html  \n",
      "  inflating: cifar-10-python/cifar-10-batches-py/test_batch  \n",
      "  inflating: cifar_test_nolabel.pkl  \n"
     ]
    }
   ],
   "source": [
    "!unzip deep-learning-spring-2025-project-1.zip"
   ]
  },
  {
   "cell_type": "code",
   "execution_count": 2,
   "metadata": {
    "id": "yY5dty-ZluYk"
   },
   "outputs": [],
   "source": [
    "# Path to the directory containing extracted CIFAR-10 batch files\n",
    "DATA_PATH = './cifar-10-python/cifar-10-batches-py'"
   ]
  },
  {
   "cell_type": "code",
   "execution_count": 3,
   "metadata": {
    "colab": {
     "base_uri": "https://localhost:8080/"
    },
    "id": "T3abaoH_mfAg",
    "outputId": "29342a30-2189-4196-d8b2-905fd2892bd0"
   },
   "outputs": [
    {
     "name": "stdout",
     "output_type": "stream",
     "text": [
      "data_batch_1\n",
      "data_batch_2\n",
      "batches.meta\n",
      "test_batch\n",
      "data_batch_3\n",
      "data_batch_5\n",
      "data_batch_4\n",
      "readme.html\n"
     ]
    }
   ],
   "source": [
    "from os.path import isfile\n",
    "for file in os.listdir(DATA_PATH):\n",
    "    if isfile(os.path.join(DATA_PATH, file)):\n",
    "        print(file)"
   ]
  },
  {
   "cell_type": "code",
   "execution_count": 4,
   "metadata": {
    "colab": {
     "base_uri": "https://localhost:8080/"
    },
    "id": "bp2Izj7-WOCs",
    "outputId": "5c87a5cb-ac79-4ac1-8702-9c83aae5edd0"
   },
   "outputs": [
    {
     "name": "stdout",
     "output_type": "stream",
     "text": [
      "Using device: cuda\n"
     ]
    }
   ],
   "source": [
    "device = torch.device(\"cuda\" if torch.cuda.is_available() else \"cpu\")\n",
    "print(f\"Using device: {device}\")"
   ]
  },
  {
   "cell_type": "code",
   "execution_count": 6,
   "metadata": {
    "id": "7ueVlp0_l8rX"
   },
   "outputs": [],
   "source": [
    "def load_batch(batch_file):\n",
    "    with open(batch_file, 'rb') as file:\n",
    "        batch = pickle.load(file, encoding='bytes')\n",
    "    images = batch[b'data']\n",
    "    labels = batch[b'labels']\n",
    "    # Reshape to (N, 3, 32, 32) and scale pixel values to [0,1]\n",
    "    images = images.reshape(-1, 3, 32, 32).astype(np.float32) / 255.0\n",
    "    return images, labels"
   ]
  },
  {
   "cell_type": "code",
   "execution_count": 7,
   "metadata": {
    "colab": {
     "base_uri": "https://localhost:8080/"
    },
    "id": "8LRGQfJSmBg-",
    "outputId": "13448479-00ad-4c27-d79f-7a6371b49bf1"
   },
   "outputs": [
    {
     "name": "stdout",
     "output_type": "stream",
     "text": [
      "Training data shape: (50000, 3, 32, 32), Training labels shape: (50000,)\n"
     ]
    }
   ],
   "source": [
    "train_images = []\n",
    "train_labels = []\n",
    "\n",
    "for i in range(1, 6):\n",
    "    batch_file = os.path.join(DATA_PATH, f'data_batch_{i}')\n",
    "    images, labels = load_batch(batch_file)\n",
    "    train_images.append(images)\n",
    "    train_labels.extend(labels)\n",
    "\n",
    "train_images = np.concatenate(train_images)\n",
    "train_labels = np.array(train_labels)\n",
    "\n",
    "print(f'Training data shape: {train_images.shape}, Training labels shape: {train_labels.shape}')"
   ]
  },
  {
   "cell_type": "code",
   "execution_count": 10,
   "metadata": {
    "colab": {
     "base_uri": "https://localhost:8080/"
    },
    "id": "FYYCnNVqraXX",
    "outputId": "75984bfe-1411-4ea7-8004-6abe37122edb"
   },
   "outputs": [
    {
     "name": "stdout",
     "output_type": "stream",
     "text": [
      "Test data shape: (10000, 3, 32, 32)\n"
     ]
    }
   ],
   "source": [
    "test_batch_file = os.path.join(DATA_PATH, 'test_batch')\n",
    "test_images, test_labels = load_batch(test_batch_file)\n",
    "print(f'Test data shape: {test_images.shape}')"
   ]
  },
  {
   "cell_type": "code",
   "execution_count": 12,
   "metadata": {},
   "outputs": [
    {
     "name": "stdout",
     "output_type": "stream",
     "text": [
      "Training data distribution (mean=[0.491400808095932, 0.48215898871421814, 0.44653093814849854], std=[0.24703224003314972, 0.24348513782024384, 0.26158785820007324])\n",
      "Test data distribution (mean=[0.49421426653862, 0.4851321876049042, 0.4504099488258362], std=[0.2466525286436081, 0.2428922802209854, 0.26159238815307617])\n"
     ]
    }
   ],
   "source": [
    "train_images_tensor = torch.tensor(train_images)  # Shape: [N, 3, 32, 32]\n",
    "test_images_tensor = torch.tensor(test_images)\n",
    "\n",
    "# Compute mean and std per channel (dim=(0,2,3) aggregates over batch and spatial dims)\n",
    "train_mean = train_images_tensor.mean(dim=(0, 2, 3)).tolist()\n",
    "train_std = train_images_tensor.std(dim=(0, 2, 3)).tolist()\n",
    "\n",
    "test_mean = test_images_tensor.mean(dim=(0, 2, 3)).tolist()\n",
    "test_std = test_images_tensor.std(dim=(0, 2, 3)).tolist()\n",
    "\n",
    "print(f\"Training data distribution (mean={train_mean}, std={train_std})\")\n",
    "print(f\"Test data distribution (mean={test_mean}, std={test_std})\")"
   ]
  },
  {
   "cell_type": "code",
   "execution_count": 14,
   "metadata": {},
   "outputs": [
    {
     "name": "stdout",
     "output_type": "stream",
     "text": [
      "KS Test Statistic: 0.00503018880208328, P-value: 0.0\n"
     ]
    }
   ],
   "source": [
    "# Perform a KS test (Kolmogorov-Smirnov Test) to compare distributions\n",
    "stat, p_value = stats.ks_2samp(train_images.flatten(), test_images.flatten())\n",
    "print(f\"KS Test Statistic: {stat}, P-value: {p_value}\")"
   ]
  },
  {
   "cell_type": "code",
   "execution_count": 15,
   "metadata": {},
   "outputs": [
    {
     "data": {
      "image/png": "[encoded data removed]",
      "text/plain": [
       "<Figure size 640x480 with 1 Axes>"
      ]
     },
     "metadata": {},
     "output_type": "display_data"
    }
   ],
   "source": [
    "plt.hist(train_images.flatten(), bins=50, alpha=0.5, label=\"Train\", density=True)\n",
    "plt.hist(test_images.flatten(), bins=50, alpha=0.5, label=\"Test\", density=True)\n",
    "plt.xlabel(\"Pixel Intensity\")\n",
    "plt.ylabel(\"Frequency\")\n",
    "plt.legend()\n",
    "plt.title(\"Train vs Test Pixel Distribution\")\n",
    "plt.show()"
   ]
  },
  {
   "cell_type": "code",
   "execution_count": 16,
   "metadata": {},
   "outputs": [
    {
     "name": "stdout",
     "output_type": "stream",
     "text": [
      "Combined dataset shape: (60000, 3, 32, 32), Combined labels shape: (60000,)\n"
     ]
    }
   ],
   "source": [
    "combined_images = np.concatenate((train_images, test_images), axis=0)\n",
    "combined_labels = np.concatenate((train_labels, test_labels), axis=0)\n",
    "\n",
    "print(f'Combined dataset shape: {combined_images.shape}, Combined labels shape: {combined_labels.shape}')"
   ]
  },
  {
   "cell_type": "code",
   "execution_count": 17,
   "metadata": {},
   "outputs": [
    {
     "name": "stdout",
     "output_type": "stream",
     "text": [
      "Combined dataset distribution (mean=[0.4918684661388397, 0.4826551079750061, 0.4471774399280548], std=[0.2469712197780609, 0.24338895082473755, 0.2615925967693329])\n"
     ]
    }
   ],
   "source": [
    "combined_images_tensor = torch.tensor(combined_images)  # Shape: [N, 3, 32, 32]\n",
    "\n",
    "# Compute mean and std per channel (across batch and spatial dimensions)\n",
    "combined_mean = combined_images_tensor.mean(dim=(0, 2, 3)).tolist()\n",
    "combined_std = combined_images_tensor.std(dim=(0, 2, 3)).tolist()\n",
    "\n",
    "print(f\"Combined dataset distribution (mean={combined_mean}, std={combined_std})\")"
   ]
  },
  {
   "cell_type": "code",
   "execution_count": 20,
   "metadata": {
    "id": "O-dj7aqrWQAr"
   },
   "outputs": [],
   "source": [
    "train_transform = transforms.Compose([\n",
    "    transforms.RandomCrop(32, padding=4),\n",
    "    transforms.RandomHorizontalFlip(),\n",
    "    transforms.ToTensor(),\n",
    "    transforms.Normalize(mean=[0.4914, 0.4822, 0.4465],\n",
    "                         std=[0.247, 0.243, 0.261]),\n",
    "])"
   ]
  },
  {
   "cell_type": "code",
   "execution_count": 19,
   "metadata": {
    "id": "j9ReMfu6pc8_"
   },
   "outputs": [],
   "source": [
    "test_transform = transforms.Compose([\n",
    "    transforms.ToTensor(),\n",
    "    transforms.Normalize(mean=[0.4914, 0.4822, 0.4465],\n",
    "                         std=[0.247, 0.243, 0.261]),\n",
    "])"
   ]
  },
  {
   "cell_type": "code",
   "execution_count": 18,
   "metadata": {},
   "outputs": [],
   "source": [
    "combined_transform = transforms.Compose([\n",
    "    transforms.RandomCrop(32, padding=4),\n",
    "    transforms.RandomHorizontalFlip(),\n",
    "    transforms.ToTensor(),\n",
    "    transforms.Normalize(mean=combined_mean, std=combined_std),\n",
    "])"
   ]
  },
  {
   "cell_type": "code",
   "execution_count": 76,
   "metadata": {},
   "outputs": [],
   "source": [
    "unlabeled_combined_transform = transforms.Compose([\n",
    "    transforms.ToTensor(),\n",
    "    transforms.Normalize(mean=combined_mean,\n",
    "                         std=combined_std),\n",
    "])"
   ]
  },
  {
   "cell_type": "code",
   "execution_count": 21,
   "metadata": {
    "id": "oypBYk6Gm6e0"
   },
   "outputs": [],
   "source": [
    "class CIFARDataset(Dataset):\n",
    "    def __init__(self, images, labels=None, transform=None):\n",
    "        self.images = torch.tensor(images).float()  # shape: (N,3,32,32)\n",
    "        self.labels = torch.tensor(labels) if labels is not None else None\n",
    "        self.transform = transform\n",
    "\n",
    "    def __len__(self):\n",
    "        return len(self.images)\n",
    "\n",
    "    def __getitem__(self, idx):\n",
    "        # Get the image (and label if available)\n",
    "        image = self.images[idx]\n",
    "        # If a transform is provided, convert to PIL image and apply it.\n",
    "        if self.transform:\n",
    "            image = ToPILImage()(image)\n",
    "            image = self.transform(image)\n",
    "        if self.labels is not None:\n",
    "            label = self.labels[idx]\n",
    "            return image, label\n",
    "        return image"
   ]
  },
  {
   "cell_type": "code",
   "execution_count": 47,
   "metadata": {},
   "outputs": [],
   "source": [
    "# Use the entire training dataset for training\n",
    "train_dataset = CIFARDataset(train_images, train_labels, transform=train_transform)\n",
    "train_loader = DataLoader(train_dataset, batch_size=128, shuffle=True, num_workers=8, pin_memory=True)\n",
    "\n",
    "# Use the test dataset for validation\n",
    "val_dataset = CIFARDataset(test_images, test_labels, transform=test_transform)\n",
    "val_loader = DataLoader(val_dataset, batch_size=128, shuffle=False, num_workers=8, pin_memory=True)"
   ]
  },
  {
   "cell_type": "code",
   "execution_count": 12,
   "metadata": {
    "id": "m_BgAZCqm2Km"
   },
   "outputs": [],
   "source": [
    "test_dataset = CIFARDataset(test_images, test_labels, transform=test_transform)\n",
    "test_loader = DataLoader(test_dataset, batch_size=128, shuffle=False, num_workers=8, pin_memory=True)"
   ]
  },
  {
   "cell_type": "code",
   "execution_count": 53,
   "metadata": {},
   "outputs": [],
   "source": [
    "train_dataset = CIFARDataset(train_images, train_labels, transform=train_transform)\n",
    "\n",
    "# Select 10% of the training data for validation\n",
    "val_indices = torch.randperm(len(train_images))[:int(0.1 * len(train_images))]\n",
    "val_dataset = Subset(train_dataset, val_indices)\n",
    "\n",
    "# Dataloaders\n",
    "train_loader = DataLoader(train_dataset, batch_size=128, shuffle=True, num_workers=8, pin_memory=True)\n",
    "val_loader = DataLoader(val_dataset, batch_size=128, shuffle=False, num_workers=8, pin_memory=True)\n",
    "\n",
    "# Test dataset remains unchanged\n",
    "test_dataset = CIFARDataset(test_images, test_labels, transform=test_transform)\n",
    "test_loader = DataLoader(test_dataset, batch_size=128, shuffle=False, num_workers=8, pin_memory=True)"
   ]
  },
  {
   "cell_type": "code",
   "execution_count": 22,
   "metadata": {},
   "outputs": [],
   "source": [
    "combined_train_dataset = CIFARDataset(combined_images, combined_labels, transform=combined_transform)\n",
    "\n",
    "# Select 10% of the training data for validation\n",
    "val_indices = torch.randperm(len(combined_images))[:int(0.1 * len(combined_images))]\n",
    "val_dataset = Subset(combined_train_dataset, val_indices)"
   ]
  },
  {
   "cell_type": "code",
   "execution_count": 31,
   "metadata": {},
   "outputs": [],
   "source": [
    "# Dataloaders\n",
    "train_loader = DataLoader(combined_train_dataset, batch_size=128, shuffle=True, num_workers=8, pin_memory=True)\n",
    "val_loader = DataLoader(val_dataset, batch_size=128, shuffle=False, num_workers=8, pin_memory=True)\n",
    "\n",
    "# Test dataset remains unchanged\n",
    "test_dataset = CIFARDataset(test_images, test_labels, transform=test_transform)\n",
    "test_loader = DataLoader(test_dataset, batch_size=128, shuffle=False, num_workers=8, pin_memory=True)"
   ]
  },
  {
   "cell_type": "code",
   "execution_count": 23,
   "metadata": {
    "id": "Zr3RQdD94lrN"
   },
   "outputs": [],
   "source": [
    "class ResidualBlockWithDropout(nn.Module):\n",
    "    def __init__(self, in_channels, out_channels, stride=1, dropout_prob=0.2):\n",
    "        super(ResidualBlockWithDropout, self).__init__()\n",
    "        self.conv1 = nn.Conv2d(in_channels, out_channels, kernel_size=3, stride=stride, padding=1)\n",
    "        self.bn1   = nn.BatchNorm2d(out_channels)\n",
    "        self.conv2 = nn.Conv2d(out_channels, out_channels, kernel_size=3, stride=1, padding=1)\n",
    "        self.bn2   = nn.BatchNorm2d(out_channels)\n",
    "        self.dropout = nn.Dropout2d(dropout_prob)\n",
    "\n",
    "        self.skip = nn.Sequential()\n",
    "        if stride != 1 or in_channels != out_channels:\n",
    "            self.skip = nn.Sequential(\n",
    "                nn.Conv2d(in_channels, out_channels, kernel_size=1, stride=stride),\n",
    "                nn.BatchNorm2d(out_channels)\n",
    "            )\n",
    "\n",
    "    def forward(self, x):\n",
    "        identity = self.skip(x)\n",
    "        out = F.relu(self.bn1(self.conv1(x)))\n",
    "        out = self.dropout(out)\n",
    "        out = self.bn2(self.conv2(out))\n",
    "        out += identity\n",
    "        return F.relu(out)"
   ]
  },
  {
   "cell_type": "code",
   "execution_count": 74,
   "metadata": {
    "id": "BeiB6s4U4n2H"
   },
   "outputs": [],
   "source": [
    "class ModifiedResNetWithDropout(nn.Module):\n",
    "    def __init__(self, num_classes=10, dropout_prob=0.5):\n",
    "        super(ModifiedResNetWithDropout, self).__init__()\n",
    "        self.init_conv = nn.Conv2d(3, 64, kernel_size=3, stride=1, padding=1)\n",
    "        self.bn        = nn.BatchNorm2d(64)\n",
    "        self.relu      = nn.ReLU()\n",
    "        self.layer1    = self._make_layer(64, 64, blocks=4, stride=1, dropout_prob=dropout_prob)\n",
    "        self.layer2    = self._make_layer(64, 128, blocks=4, stride=2, dropout_prob=dropout_prob)\n",
    "        self.layer3    = self._make_layer(128, 256, blocks=3, stride=2, dropout_prob=dropout_prob)\n",
    "        self.avg_pool  = nn.AdaptiveAvgPool2d((1, 1))\n",
    "        self.fc        = nn.Linear(256, num_classes)\n",
    "\n",
    "    def _make_layer(self, in_channels, out_channels, blocks, stride, dropout_prob):\n",
    "        layers = [ResidualBlockWithDropout(in_channels, out_channels, stride, dropout_prob)]\n",
    "        for _ in range(1, blocks):\n",
    "            layers.append(ResidualBlockWithDropout(out_channels, out_channels, dropout_prob=dropout_prob))\n",
    "        return nn.Sequential(*layers)\n",
    "\n",
    "    def forward(self, x):\n",
    "        x = self.relu(self.bn(self.init_conv(x)))\n",
    "        x = self.layer1(x)\n",
    "        x = self.layer2(x)\n",
    "        x = self.layer3(x)\n",
    "        x = self.avg_pool(x)\n",
    "        x = torch.flatten(x, 1)\n",
    "        return self.fc(x)"
   ]
  },
  {
   "cell_type": "code",
   "execution_count": 75,
   "metadata": {
    "colab": {
     "base_uri": "https://localhost:8080/"
    },
    "id": "KNcttQB9WnSG",
    "outputId": "ec3b6189-66c2-47ef-8ab1-0c99f9b079b2"
   },
   "outputs": [
    {
     "name": "stdout",
     "output_type": "stream",
     "text": [
      "----------------------------------------------------------------\n",
      "        Layer (type)               Output Shape         Param #\n",
      "================================================================\n",
      "            Conv2d-1           [-1, 64, 32, 32]           1,792\n",
      "       BatchNorm2d-2           [-1, 64, 32, 32]             128\n",
      "              ReLU-3           [-1, 64, 32, 32]               0\n",
      "            Conv2d-4           [-1, 64, 32, 32]          36,928\n",
      "       BatchNorm2d-5           [-1, 64, 32, 32]             128\n",
      "         Dropout2d-6           [-1, 64, 32, 32]               0\n",
      "            Conv2d-7           [-1, 64, 32, 32]          36,928\n",
      "       BatchNorm2d-8           [-1, 64, 32, 32]             128\n",
      "ResidualBlockWithDropout-9           [-1, 64, 32, 32]               0\n",
      "           Conv2d-10           [-1, 64, 32, 32]          36,928\n",
      "      BatchNorm2d-11           [-1, 64, 32, 32]             128\n",
      "        Dropout2d-12           [-1, 64, 32, 32]               0\n",
      "           Conv2d-13           [-1, 64, 32, 32]          36,928\n",
      "      BatchNorm2d-14           [-1, 64, 32, 32]             128\n",
      "ResidualBlockWithDropout-15           [-1, 64, 32, 32]               0\n",
      "           Conv2d-16           [-1, 64, 32, 32]          36,928\n",
      "      BatchNorm2d-17           [-1, 64, 32, 32]             128\n",
      "        Dropout2d-18           [-1, 64, 32, 32]               0\n",
      "           Conv2d-19           [-1, 64, 32, 32]          36,928\n",
      "      BatchNorm2d-20           [-1, 64, 32, 32]             128\n",
      "ResidualBlockWithDropout-21           [-1, 64, 32, 32]               0\n",
      "           Conv2d-22           [-1, 64, 32, 32]          36,928\n",
      "      BatchNorm2d-23           [-1, 64, 32, 32]             128\n",
      "        Dropout2d-24           [-1, 64, 32, 32]               0\n",
      "           Conv2d-25           [-1, 64, 32, 32]          36,928\n",
      "      BatchNorm2d-26           [-1, 64, 32, 32]             128\n",
      "ResidualBlockWithDropout-27           [-1, 64, 32, 32]               0\n",
      "           Conv2d-28          [-1, 128, 16, 16]           8,320\n",
      "      BatchNorm2d-29          [-1, 128, 16, 16]             256\n",
      "           Conv2d-30          [-1, 128, 16, 16]          73,856\n",
      "      BatchNorm2d-31          [-1, 128, 16, 16]             256\n",
      "        Dropout2d-32          [-1, 128, 16, 16]               0\n",
      "           Conv2d-33          [-1, 128, 16, 16]         147,584\n",
      "      BatchNorm2d-34          [-1, 128, 16, 16]             256\n",
      "ResidualBlockWithDropout-35          [-1, 128, 16, 16]               0\n",
      "           Conv2d-36          [-1, 128, 16, 16]         147,584\n",
      "      BatchNorm2d-37          [-1, 128, 16, 16]             256\n",
      "        Dropout2d-38          [-1, 128, 16, 16]               0\n",
      "           Conv2d-39          [-1, 128, 16, 16]         147,584\n",
      "      BatchNorm2d-40          [-1, 128, 16, 16]             256\n",
      "ResidualBlockWithDropout-41          [-1, 128, 16, 16]               0\n",
      "           Conv2d-42          [-1, 128, 16, 16]         147,584\n",
      "      BatchNorm2d-43          [-1, 128, 16, 16]             256\n",
      "        Dropout2d-44          [-1, 128, 16, 16]               0\n",
      "           Conv2d-45          [-1, 128, 16, 16]         147,584\n",
      "      BatchNorm2d-46          [-1, 128, 16, 16]             256\n",
      "ResidualBlockWithDropout-47          [-1, 128, 16, 16]               0\n",
      "           Conv2d-48          [-1, 128, 16, 16]         147,584\n",
      "      BatchNorm2d-49          [-1, 128, 16, 16]             256\n",
      "        Dropout2d-50          [-1, 128, 16, 16]               0\n",
      "           Conv2d-51          [-1, 128, 16, 16]         147,584\n",
      "      BatchNorm2d-52          [-1, 128, 16, 16]             256\n",
      "ResidualBlockWithDropout-53          [-1, 128, 16, 16]               0\n",
      "           Conv2d-54            [-1, 256, 8, 8]          33,024\n",
      "      BatchNorm2d-55            [-1, 256, 8, 8]             512\n",
      "           Conv2d-56            [-1, 256, 8, 8]         295,168\n",
      "      BatchNorm2d-57            [-1, 256, 8, 8]             512\n",
      "        Dropout2d-58            [-1, 256, 8, 8]               0\n",
      "           Conv2d-59            [-1, 256, 8, 8]         590,080\n",
      "      BatchNorm2d-60            [-1, 256, 8, 8]             512\n",
      "ResidualBlockWithDropout-61            [-1, 256, 8, 8]               0\n",
      "           Conv2d-62            [-1, 256, 8, 8]         590,080\n",
      "      BatchNorm2d-63            [-1, 256, 8, 8]             512\n",
      "        Dropout2d-64            [-1, 256, 8, 8]               0\n",
      "           Conv2d-65            [-1, 256, 8, 8]         590,080\n",
      "      BatchNorm2d-66            [-1, 256, 8, 8]             512\n",
      "ResidualBlockWithDropout-67            [-1, 256, 8, 8]               0\n",
      "           Conv2d-68            [-1, 256, 8, 8]         590,080\n",
      "      BatchNorm2d-69            [-1, 256, 8, 8]             512\n",
      "        Dropout2d-70            [-1, 256, 8, 8]               0\n",
      "           Conv2d-71            [-1, 256, 8, 8]         590,080\n",
      "      BatchNorm2d-72            [-1, 256, 8, 8]             512\n",
      "ResidualBlockWithDropout-73            [-1, 256, 8, 8]               0\n",
      "AdaptiveAvgPool2d-74            [-1, 256, 1, 1]               0\n",
      "           Linear-75                   [-1, 10]           2,570\n",
      "================================================================\n",
      "Total params: 4,700,682\n",
      "Trainable params: 4,700,682\n",
      "Non-trainable params: 0\n",
      "----------------------------------------------------------------\n",
      "Input size (MB): 0.01\n",
      "Forward/backward pass size (MB): 22.50\n",
      "Params size (MB): 17.93\n",
      "Estimated Total Size (MB): 40.45\n",
      "----------------------------------------------------------------\n"
     ]
    }
   ],
   "source": [
    "model = ModifiedResNetWithDropout(num_classes=10, dropout_prob=0.5).to(device)\n",
    "summary(model, (3, 32, 32))"
   ]
  },
  {
   "cell_type": "code",
   "execution_count": 26,
   "metadata": {
    "colab": {
     "base_uri": "https://localhost:8080/"
    },
    "id": "KYdehvYHqV49",
    "outputId": "eee91d41-6d1e-4659-a547-3c4f1c351c74"
   },
   "outputs": [
    {
     "name": "stdout",
     "output_type": "stream",
     "text": [
      "Total trainable parameters: 4700682\n"
     ]
    }
   ],
   "source": [
    "total_params = sum(p.numel() for p in model.parameters() if p.requires_grad)\n",
    "print(f\"Total trainable parameters: {total_params}\")\n",
    "if total_params > 5e6:\n",
    "    print(\"WARNING: Your model exceeds 5 million parameters!\")"
   ]
  },
  {
   "cell_type": "code",
   "execution_count": 79,
   "metadata": {},
   "outputs": [],
   "source": [
    "time = datetime.now().strftime(\"%d%m%Y%H%M\")\n",
    "params = millify(total_params, precision = 2)"
   ]
  },
  {
   "cell_type": "code",
   "execution_count": 80,
   "metadata": {
    "id": "J5ydpDqkWlpF"
   },
   "outputs": [],
   "source": [
    "def evaluate(model, loader):\n",
    "    model.eval()\n",
    "    correct, total = 0, 0\n",
    "    with torch.no_grad():\n",
    "        for images, labels in loader:\n",
    "            images, labels = images.to(device), labels.to(device)\n",
    "            outputs = model(images)\n",
    "            _, preds = torch.max(outputs, 1)\n",
    "            correct += (preds == labels).sum().item()\n",
    "            total += labels.size(0)\n",
    "    return correct / total"
   ]
  },
  {
   "cell_type": "code",
   "execution_count": 81,
   "metadata": {},
   "outputs": [],
   "source": [
    "def train_model(model, train_loader, val_loader, test_loader, epochs=100, lr=0.1, checkpoint_path=f'checkpoint-{params}-{time}.pth', resume=False):\n",
    "    device = torch.device(\"cuda\" if torch.cuda.is_available() else \"cpu\")\n",
    "    model.to(device)\n",
    "    \n",
    "    criterion = nn.CrossEntropyLoss()\n",
    "    optimizer = torch.optim.SGD(model.parameters(), lr=lr, momentum=0.9, weight_decay=5e-4)\n",
    "    scheduler = torch.optim.lr_scheduler.CosineAnnealingLR(optimizer, T_max=epochs, eta_min=1e-5)\n",
    "    \n",
    "    start_epoch = 0\n",
    "    if resume and os.path.exists(checkpoint_path):\n",
    "        print(f\"Resuming from checkpoint {checkpoint_path}\")\n",
    "        checkpoint = torch.load(checkpoint_path, map_location=device)\n",
    "        model.load_state_dict(checkpoint['model_state_dict'])\n",
    "        optimizer.load_state_dict(checkpoint['optimizer_state_dict'])\n",
    "        scheduler.load_state_dict(checkpoint['scheduler_state_dict'])\n",
    "        start_epoch = checkpoint['epoch'] + 1  # continue from next epoch\n",
    "\n",
    "    train_losses, val_accuracies, test_accuracies = [], [], []\n",
    "    best_test_acc = 0.0  # Track highest test accuracy\n",
    "    final_test_acc = 0.0\n",
    "    final_train_loss = 0.0\n",
    "\n",
    "    for epoch in range(start_epoch, epochs):\n",
    "        model.train()\n",
    "        running_loss = 0.0\n",
    "\n",
    "        for images, labels in train_loader:\n",
    "            images, labels = images.to(device), labels.to(device)\n",
    "\n",
    "            optimizer.zero_grad()\n",
    "            outputs = model(images)\n",
    "            loss = criterion(outputs, labels)\n",
    "            loss.backward()\n",
    "            optimizer.step()\n",
    "\n",
    "            running_loss += loss.item()\n",
    "\n",
    "        avg_loss = running_loss / len(train_loader)\n",
    "        train_losses.append(avg_loss)\n",
    "\n",
    "        val_acc = evaluate(model, val_loader)\n",
    "        val_accuracies.append(val_acc)\n",
    "\n",
    "        test_acc = evaluate(model, test_loader)\n",
    "        test_accuracies.append(test_acc)\n",
    "\n",
    "        # Track highest test accuracy\n",
    "        if test_acc > best_test_acc:\n",
    "            best_test_acc = test_acc\n",
    "\n",
    "        scheduler.step()\n",
    "\n",
    "        print(f\"Epoch {epoch+1}/{epochs} - Loss: {avg_loss:.4f} - Val Acc: {val_acc:.4f} - Test Acc: {test_acc:.4f}\")\n",
    "\n",
    "        # Save checkpoint after each epoch\n",
    "        checkpoint = {\n",
    "            'epoch': epoch,\n",
    "            'model_state_dict': model.state_dict(),\n",
    "            'optimizer_state_dict': optimizer.state_dict(),\n",
    "            'scheduler_state_dict': scheduler.state_dict(),\n",
    "            'loss': avg_loss\n",
    "        }\n",
    "        torch.save(checkpoint, checkpoint_path)\n",
    "\n",
    "    # Store final metrics\n",
    "    final_train_loss = train_losses[-1]  # Last training loss\n",
    "    final_test_acc = test_accuracies[-1]  # Last test accuracy\n",
    "\n",
    "    return train_losses, val_accuracies, test_accuracies, final_test_acc, final_train_loss, best_test_acc"
   ]
  },
  {
   "cell_type": "code",
   "execution_count": null,
   "metadata": {
    "colab": {
     "base_uri": "https://localhost:8080/",
     "height": 783
    },
    "id": "SoDrQTFhnuJF",
    "outputId": "74911b8a-0b81-49ce-b124-9244985e464c"
   },
   "outputs": [
    {
     "name": "stdout",
     "output_type": "stream",
     "text": [
      "Epoch 1/100 - Loss: 2.0022 - Val Acc: 0.3595 - Test Acc: 0.3658\n",
      "Epoch 2/100 - Loss: 1.6162 - Val Acc: 0.4845 - Test Acc: 0.4897\n",
      "Epoch 3/100 - Loss: 1.3833 - Val Acc: 0.5223 - Test Acc: 0.5304\n",
      "Epoch 4/100 - Loss: 1.1850 - Val Acc: 0.6227 - Test Acc: 0.6326\n",
      "Epoch 5/100 - Loss: 1.0635 - Val Acc: 0.6097 - Test Acc: 0.6118\n",
      "Epoch 6/100 - Loss: 0.9841 - Val Acc: 0.6658 - Test Acc: 0.6577\n",
      "Epoch 7/100 - Loss: 0.9382 - Val Acc: 0.6597 - Test Acc: 0.6771\n",
      "Epoch 8/100 - Loss: 0.8955 - Val Acc: 0.6878 - Test Acc: 0.7066\n",
      "Epoch 9/100 - Loss: 0.8557 - Val Acc: 0.7360 - Test Acc: 0.7468\n",
      "Epoch 10/100 - Loss: 0.8129 - Val Acc: 0.7377 - Test Acc: 0.7445\n",
      "Epoch 11/100 - Loss: 0.7847 - Val Acc: 0.7653 - Test Acc: 0.7838\n",
      "Epoch 12/100 - Loss: 0.7436 - Val Acc: 0.7600 - Test Acc: 0.7708\n",
      "Epoch 13/100 - Loss: 0.7212 - Val Acc: 0.7932 - Test Acc: 0.8013\n",
      "Epoch 14/100 - Loss: 0.7039 - Val Acc: 0.7982 - Test Acc: 0.8067\n",
      "Epoch 15/100 - Loss: 0.6823 - Val Acc: 0.7340 - Test Acc: 0.7479\n",
      "Epoch 16/100 - Loss: 0.6734 - Val Acc: 0.8088 - Test Acc: 0.8169\n",
      "Epoch 17/100 - Loss: 0.6593 - Val Acc: 0.8040 - Test Acc: 0.8175\n",
      "Epoch 18/100 - Loss: 0.6488 - Val Acc: 0.8123 - Test Acc: 0.8180\n",
      "Epoch 19/100 - Loss: 0.6372 - Val Acc: 0.8053 - Test Acc: 0.8124\n",
      "Epoch 20/100 - Loss: 0.6286 - Val Acc: 0.8213 - Test Acc: 0.8245\n",
      "Epoch 21/100 - Loss: 0.6181 - Val Acc: 0.8212 - Test Acc: 0.8343\n",
      "Epoch 22/100 - Loss: 0.6101 - Val Acc: 0.7955 - Test Acc: 0.8022\n",
      "Epoch 23/100 - Loss: 0.6070 - Val Acc: 0.8337 - Test Acc: 0.8437\n",
      "Epoch 24/100 - Loss: 0.6014 - Val Acc: 0.8435 - Test Acc: 0.8580\n",
      "Epoch 25/100 - Loss: 0.5946 - Val Acc: 0.8203 - Test Acc: 0.8326\n",
      "Epoch 26/100 - Loss: 0.5852 - Val Acc: 0.8537 - Test Acc: 0.8659\n",
      "Epoch 27/100 - Loss: 0.5818 - Val Acc: 0.8260 - Test Acc: 0.8386\n",
      "Epoch 28/100 - Loss: 0.5769 - Val Acc: 0.8472 - Test Acc: 0.8595\n",
      "Epoch 29/100 - Loss: 0.5696 - Val Acc: 0.8475 - Test Acc: 0.8476\n",
      "Epoch 30/100 - Loss: 0.5638 - Val Acc: 0.8538 - Test Acc: 0.8610\n",
      "Epoch 31/100 - Loss: 0.5549 - Val Acc: 0.8558 - Test Acc: 0.8554\n",
      "Epoch 32/100 - Loss: 0.5545 - Val Acc: 0.8580 - Test Acc: 0.8601\n",
      "Epoch 33/100 - Loss: 0.5486 - Val Acc: 0.8512 - Test Acc: 0.8533\n",
      "Epoch 34/100 - Loss: 0.5415 - Val Acc: 0.8428 - Test Acc: 0.8573\n",
      "Epoch 35/100 - Loss: 0.5415 - Val Acc: 0.8655 - Test Acc: 0.8738\n",
      "Epoch 36/100 - Loss: 0.5277 - Val Acc: 0.8455 - Test Acc: 0.8516\n",
      "Epoch 37/100 - Loss: 0.5240 - Val Acc: 0.8475 - Test Acc: 0.8595\n",
      "Epoch 38/100 - Loss: 0.5219 - Val Acc: 0.8680 - Test Acc: 0.8816\n",
      "Epoch 39/100 - Loss: 0.5173 - Val Acc: 0.8647 - Test Acc: 0.8790\n",
      "Epoch 40/100 - Loss: 0.5100 - Val Acc: 0.8765 - Test Acc: 0.8891\n",
      "Epoch 41/100 - Loss: 0.5074 - Val Acc: 0.8677 - Test Acc: 0.8798\n",
      "Epoch 42/100 - Loss: 0.4989 - Val Acc: 0.8705 - Test Acc: 0.8695\n",
      "Epoch 43/100 - Loss: 0.4949 - Val Acc: 0.8817 - Test Acc: 0.8858\n",
      "Epoch 44/100 - Loss: 0.4846 - Val Acc: 0.8678 - Test Acc: 0.8742\n",
      "Epoch 45/100 - Loss: 0.4823 - Val Acc: 0.8585 - Test Acc: 0.8737\n",
      "Epoch 46/100 - Loss: 0.4791 - Val Acc: 0.8802 - Test Acc: 0.8877\n",
      "Epoch 47/100 - Loss: 0.4690 - Val Acc: 0.8903 - Test Acc: 0.9014\n",
      "Epoch 48/100 - Loss: 0.4648 - Val Acc: 0.8808 - Test Acc: 0.8908\n",
      "Epoch 49/100 - Loss: 0.4615 - Val Acc: 0.8913 - Test Acc: 0.8949\n",
      "Epoch 50/100 - Loss: 0.4505 - Val Acc: 0.8883 - Test Acc: 0.8998\n",
      "Epoch 51/100 - Loss: 0.4522 - Val Acc: 0.8793 - Test Acc: 0.8881\n",
      "Epoch 52/100 - Loss: 0.4364 - Val Acc: 0.8878 - Test Acc: 0.8963\n",
      "Epoch 53/100 - Loss: 0.4335 - Val Acc: 0.8785 - Test Acc: 0.8856\n",
      "Epoch 54/100 - Loss: 0.4293 - Val Acc: 0.8908 - Test Acc: 0.9073\n",
      "Epoch 55/100 - Loss: 0.4196 - Val Acc: 0.8967 - Test Acc: 0.8963\n",
      "Epoch 56/100 - Loss: 0.4109 - Val Acc: 0.9035 - Test Acc: 0.9072\n",
      "Epoch 57/100 - Loss: 0.4049 - Val Acc: 0.9020 - Test Acc: 0.9069\n",
      "Epoch 58/100 - Loss: 0.3985 - Val Acc: 0.9120 - Test Acc: 0.9197\n",
      "Epoch 59/100 - Loss: 0.3948 - Val Acc: 0.9055 - Test Acc: 0.9174\n",
      "Epoch 60/100 - Loss: 0.3858 - Val Acc: 0.9048 - Test Acc: 0.9155\n",
      "Epoch 61/100 - Loss: 0.3776 - Val Acc: 0.9092 - Test Acc: 0.9230\n",
      "Epoch 62/100 - Loss: 0.3768 - Val Acc: 0.9153 - Test Acc: 0.9221\n",
      "Epoch 63/100 - Loss: 0.3633 - Val Acc: 0.9062 - Test Acc: 0.9049\n",
      "Epoch 64/100 - Loss: 0.3555 - Val Acc: 0.9240 - Test Acc: 0.9289\n",
      "Epoch 65/100 - Loss: 0.3546 - Val Acc: 0.9243 - Test Acc: 0.9318\n",
      "Epoch 66/100 - Loss: 0.3409 - Val Acc: 0.9267 - Test Acc: 0.9351\n",
      "Epoch 67/100 - Loss: 0.3359 - Val Acc: 0.9235 - Test Acc: 0.9308\n",
      "Epoch 68/100 - Loss: 0.3245 - Val Acc: 0.9337 - Test Acc: 0.9406\n",
      "Epoch 69/100 - Loss: 0.3197 - Val Acc: 0.9318 - Test Acc: 0.9347\n",
      "Epoch 70/100 - Loss: 0.3145 - Val Acc: 0.9295 - Test Acc: 0.9354\n",
      "Epoch 71/100 - Loss: 0.2974 - Val Acc: 0.9363 - Test Acc: 0.9434\n",
      "Epoch 72/100 - Loss: 0.2897 - Val Acc: 0.9425 - Test Acc: 0.9488\n",
      "Epoch 73/100 - Loss: 0.2845 - Val Acc: 0.9392 - Test Acc: 0.9458\n",
      "Epoch 74/100 - Loss: 0.2740 - Val Acc: 0.9432 - Test Acc: 0.9512\n",
      "Epoch 75/100 - Loss: 0.2630 - Val Acc: 0.9483 - Test Acc: 0.9555\n",
      "Epoch 76/100 - Loss: 0.2558 - Val Acc: 0.9550 - Test Acc: 0.9574\n",
      "Epoch 77/100 - Loss: 0.2500 - Val Acc: 0.9537 - Test Acc: 0.9592\n",
      "Epoch 78/100 - Loss: 0.2419 - Val Acc: 0.9525 - Test Acc: 0.9588\n",
      "Epoch 79/100 - Loss: 0.2274 - Val Acc: 0.9557 - Test Acc: 0.9615\n",
      "Epoch 80/100 - Loss: 0.2177 - Val Acc: 0.9600 - Test Acc: 0.9679\n",
      "Epoch 81/100 - Loss: 0.2090 - Val Acc: 0.9677 - Test Acc: 0.9711\n",
      "Epoch 82/100 - Loss: 0.2020 - Val Acc: 0.9647 - Test Acc: 0.9703\n",
      "Epoch 83/100 - Loss: 0.1935 - Val Acc: 0.9700 - Test Acc: 0.9747\n",
      "Epoch 84/100 - Loss: 0.1801 - Val Acc: 0.9738 - Test Acc: 0.9760\n",
      "Epoch 85/100 - Loss: 0.1727 - Val Acc: 0.9753 - Test Acc: 0.9792\n",
      "Epoch 86/100 - Loss: 0.1653 - Val Acc: 0.9745 - Test Acc: 0.9782\n",
      "Epoch 87/100 - Loss: 0.1547 - Val Acc: 0.9755 - Test Acc: 0.9817\n",
      "Epoch 88/100 - Loss: 0.1479 - Val Acc: 0.9772 - Test Acc: 0.9848\n",
      "Epoch 89/100 - Loss: 0.1385 - Val Acc: 0.9808 - Test Acc: 0.9844\n",
      "Epoch 90/100 - Loss: 0.1352 - Val Acc: 0.9820 - Test Acc: 0.9865\n",
      "Epoch 91/100 - Loss: 0.1299 - Val Acc: 0.9832 - Test Acc: 0.9862\n",
      "Epoch 92/100 - Loss: 0.1236 - Val Acc: 0.9822 - Test Acc: 0.9871\n",
      "Epoch 93/100 - Loss: 0.1176 - Val Acc: 0.9870 - Test Acc: 0.9880\n",
      "Epoch 94/100 - Loss: 0.1151 - Val Acc: 0.9867 - Test Acc: 0.9893\n",
      "Epoch 95/100 - Loss: 0.1103 - Val Acc: 0.9878 - Test Acc: 0.9894\n",
      "Epoch 96/100 - Loss: 0.1067 - Val Acc: 0.9867 - Test Acc: 0.9902\n",
      "Epoch 97/100 - Loss: 0.1075 - Val Acc: 0.9860 - Test Acc: 0.9898\n",
      "Epoch 98/100 - Loss: 0.1058 - Val Acc: 0.9882 - Test Acc: 0.9902\n"
     ]
    }
   ],
   "source": [
    "train_losses, val_accuracies, test_accuracies, final_test_acc, final_train_loss, best_test_acc = train_model(model, train_loader, val_loader, test_loader, epochs=100, lr=0.1, resume=False)"
   ]
  },
  {
   "cell_type": "code",
   "execution_count": 36,
   "metadata": {},
   "outputs": [
    {
     "name": "stdout",
     "output_type": "stream",
     "text": [
      "Final Test Accuracy: 0.9996\n",
      "Final Training Loss: 0.0374\n",
      "Highest Test Accuracy Achieved: 0.9996\n"
     ]
    }
   ],
   "source": [
    "print(f\"Final Test Accuracy: {final_test_acc:.4f}\")\n",
    "print(f\"Final Training Loss: {final_train_loss:.4f}\")\n",
    "print(f\"Highest Test Accuracy Achieved: {best_test_acc:.4f}\")"
   ]
  },
  {
   "cell_type": "code",
   "execution_count": 37,
   "metadata": {
    "id": "Eqi-xJMJWx8W"
   },
   "outputs": [],
   "source": [
    "save_model_name = f\"modified-resnet-cifar10-{params}-{time}.pth\"\n",
    "torch.save(model.state_dict(), save_model_name)"
   ]
  },
  {
   "cell_type": "code",
   "execution_count": 38,
   "metadata": {
    "id": "ZIeiC07fsOU2"
   },
   "outputs": [],
   "source": [
    "def plot_metrics(train_losses, val_accuracies, test_accuracies):\n",
    "    epochs = len(train_losses)\n",
    "    epochs_range = range(1, epochs + 1)\n",
    "    plt.figure(figsize=(15, 5))\n",
    "\n",
    "    # Plot Training Loss\n",
    "    plt.subplot(1, 3, 1)\n",
    "    plt.plot(epochs_range, train_losses, label=\"Train Loss\", marker='o')\n",
    "    plt.xlabel(\"Epoch\")\n",
    "    plt.ylabel(\"Loss\")\n",
    "    plt.title(\"Training Loss\")\n",
    "    plt.legend()\n",
    "\n",
    "    # Plot Validation Accuracy\n",
    "    plt.subplot(1, 3, 2)\n",
    "    plt.plot(epochs_range, val_accuracies, label=\"Validation Accuracy\", color=\"green\", marker='o')\n",
    "    plt.xlabel(\"Epoch\")\n",
    "    plt.ylabel(\"Accuracy\")\n",
    "    plt.title(\"Validation Accuracy\")\n",
    "    plt.legend()\n",
    "\n",
    "    # Plot Test Accuracy\n",
    "    plt.subplot(1, 3, 3)\n",
    "    plt.plot(epochs_range, test_accuracies, label=\"Test Accuracy\", color=\"red\", marker='o')\n",
    "    plt.xlabel(\"Epoch\")\n",
    "    plt.ylabel(\"Accuracy\")\n",
    "    plt.title(\"Test Accuracy\")\n",
    "    plt.legend()\n",
    "\n",
    "    plt.tight_layout()\n",
    "    plt.show()"
   ]
  },
  {
   "cell_type": "code",
   "execution_count": 39,
   "metadata": {
    "colab": {
     "base_uri": "https://localhost:8080/",
     "height": 402
    },
    "id": "uqWQ4McrsT_4",
    "outputId": "fadf3266-270e-491d-a75f-02bb0b22c0df"
   },
   "outputs": [
    {
     "data": {
      "image/png": "[encoded data removed]",
      "text/plain": [
       "<Figure size 1500x500 with 3 Axes>"
      ]
     },
     "metadata": {},
     "output_type": "display_data"
    }
   ],
   "source": [
    "plot_metrics(train_losses, val_accuracies, test_accuracies)"
   ]
  },
  {
   "cell_type": "code",
   "execution_count": 40,
   "metadata": {
    "id": "vKRZEfitoMwy"
   },
   "outputs": [],
   "source": [
    "class CIFARTestNoLabelDataset(Dataset):\n",
    "    def __init__(self, pickle_file, transform=None):\n",
    "        with open(pickle_file, 'rb') as f:\n",
    "            data = pickle.load(f, encoding='bytes')\n",
    "        # raw_data is in shape (N, 32, 32, 3)\n",
    "        raw_data = data[b'data']\n",
    "        # Transpose to (N, 3, 32, 32) and scale to [0,1]\n",
    "        self.images = raw_data.transpose(0, 3, 1, 2).astype(np.float32) / 255.0\n",
    "\n",
    "        # Optionally use provided IDs, otherwise we'll default to indices\n",
    "        self.ids = data.get(b'ids', None)\n",
    "        self.transform = transform\n",
    "\n",
    "    def __len__(self):\n",
    "        return len(self.images)\n",
    "\n",
    "    def __getitem__(self, idx):\n",
    "        image = torch.tensor(self.images[idx]).float()\n",
    "        if self.transform:\n",
    "            image = ToPILImage()(image)\n",
    "            image = self.transform(image)\n",
    "        # Use the id from the file if available, otherwise use the index.\n",
    "        if self.ids is not None:\n",
    "            # Assuming ids are stored as a list of bytes or strings.\n",
    "            id_val = self.ids[idx]\n",
    "            # Convert bytes to string if necessary\n",
    "            if isinstance(id_val, bytes):\n",
    "                id_val = id_val.decode('utf-8')\n",
    "        else:\n",
    "            id_val = idx\n",
    "        return image, id_val"
   ]
  },
  {
   "cell_type": "code",
   "execution_count": 78,
   "metadata": {
    "id": "zDD6DE8koPMO"
   },
   "outputs": [],
   "source": [
    "unlabeled_test_dataset = CIFARTestNoLabelDataset('cifar_test_nolabel.pkl', transform=unlabeled_combined_transform)\n",
    "unlabeled_test_loader = DataLoader(unlabeled_test_dataset, batch_size=128, shuffle=False, num_workers=8, pin_memory=True)"
   ]
  },
  {
   "cell_type": "code",
   "execution_count": 42,
   "metadata": {},
   "outputs": [],
   "source": [
    "class_names = ['airplane', 'automobile', 'bird', 'cat', 'deer', 'dog', 'frog', 'horse', 'ship', 'truck']"
   ]
  },
  {
   "cell_type": "code",
   "execution_count": 77,
   "metadata": {},
   "outputs": [],
   "source": [
    "mean = torch.tensor([0.4914, 0.4822, 0.4465]).view(3, 1, 1)\n",
    "std = torch.tensor([0.247, 0.243, 0.261]).view(3, 1, 1)"
   ]
  },
  {
   "cell_type": "code",
   "execution_count": 59,
   "metadata": {},
   "outputs": [],
   "source": [
    "def unnormalize(tensor):\n",
    "    \"\"\"Unnormalizes a batch of images\"\"\"\n",
    "    return tensor * std.to(tensor.device) + mean.to(tensor.device)"
   ]
  },
  {
   "cell_type": "code",
   "execution_count": 82,
   "metadata": {},
   "outputs": [],
   "source": [
    "def show_test_predictions(model, test_dataset, class_names, num_images=8):\n",
    "    model.eval()\n",
    "\n",
    "    # Randomly select `num_images` images from the dataset\n",
    "    indices = random.sample(range(len(test_dataset)), num_images)\n",
    "    images, labels = zip(*[test_dataset[i] for i in indices])  # Extract images and labels\n",
    "    \n",
    "    images_tensor = torch.stack(images).to(device)  # Convert list to tensor and move to GPU\n",
    "    labels_tensor = torch.tensor(labels).to(device)  # Convert labels to tensor and move to GPU\n",
    "\n",
    "    with torch.no_grad():\n",
    "        outputs = model(images_tensor)\n",
    "        _, predicted_labels = torch.max(outputs, 1)\n",
    "\n",
    "    # Unnormalize images for correct visualization\n",
    "    unnormalized_images = unnormalize(images_tensor).cpu().clamp(0, 1)  # Ensure values are in [0,1]\n",
    "    \n",
    "    # Convert images back to NumPy for visualization\n",
    "    images_np = [transforms.ToPILImage()(img) for img in unnormalized_images]\n",
    "\n",
    "    # Display images with predictions and actual labels\n",
    "    fig, axes = plt.subplots(1, num_images, figsize=(15, 3))\n",
    "    \n",
    "    for i in range(num_images):\n",
    "        axes[i].imshow(images_np[i])\n",
    "        axes[i].axis(\"off\")\n",
    "\n",
    "        actual = class_names[labels_tensor[i].item()]\n",
    "        predicted = class_names[predicted_labels[i].item()]\n",
    "        \n",
    "        # Color title green if correct, red otherwise\n",
    "        color = \"green\" if actual == predicted else \"red\"\n",
    "        axes[i].set_title(f\"Pred: {predicted}\\nActual: {actual}\", color=color)\n",
    "\n",
    "    plt.show()"
   ]
  },
  {
   "cell_type": "code",
   "execution_count": 85,
   "metadata": {},
   "outputs": [
    {
     "data": {
      "image/png": "[encoded data removed]",
      "text/plain": [
       "<Figure size 1500x300 with 8 Axes>"
      ]
     },
     "metadata": {},
     "output_type": "display_data"
    }
   ],
   "source": [
    "show_test_predictions(model, test_dataset, class_names)"
   ]
  },
  {
   "cell_type": "code",
   "execution_count": 62,
   "metadata": {},
   "outputs": [],
   "source": [
    "def show_unlabeled_predictions(model, unlabeled_dataset, class_names, num_images=10):\n",
    "    model.eval()\n",
    "\n",
    "    # Randomly select `num_images` indices\n",
    "    indices = random.sample(range(len(unlabeled_dataset)), num_images)\n",
    "    \n",
    "    # Extract images (handle tuple dataset case)\n",
    "    images = [unlabeled_dataset[i][0] if isinstance(unlabeled_dataset[i], tuple) else unlabeled_dataset[i] for i in indices]\n",
    "\n",
    "    images_tensor = torch.stack(images).to(device)  # Convert list to tensor and move to GPU\n",
    "\n",
    "    with torch.no_grad():\n",
    "        outputs = model(images_tensor)\n",
    "        _, predicted_labels = torch.max(outputs, 1)\n",
    "\n",
    "    # Unnormalize images for correct visualization\n",
    "    unnormalized_images = unnormalize(images_tensor).cpu().clamp(0, 1)  # Ensure values are in [0,1]\n",
    "    \n",
    "    # Convert images back to NumPy for visualization\n",
    "    images_np = [transforms.ToPILImage()(img) for img in unnormalized_images]\n",
    "\n",
    "    # Display images with predictions\n",
    "    fig, axes = plt.subplots(1, num_images, figsize=(15, 3))\n",
    "    \n",
    "    for i in range(num_images):\n",
    "        axes[i].imshow(images_np[i])\n",
    "        axes[i].axis(\"off\")\n",
    "\n",
    "        predicted = class_names[predicted_labels[i].item()]\n",
    "        axes[i].set_title(f\"Pred: {predicted}\", color=\"blue\")  # Blue color for predictions\n",
    "\n",
    "    plt.show()"
   ]
  },
  {
   "cell_type": "code",
   "execution_count": 65,
   "metadata": {},
   "outputs": [
    {
     "data": {
      "image/png": "[encoded data removed]",
      "text/plain": [
       "<Figure size 1500x300 with 10 Axes>"
      ]
     },
     "metadata": {},
     "output_type": "display_data"
    }
   ],
   "source": [
    "show_unlabeled_predictions(model, unlabeled_test_dataset, class_names)"
   ]
  },
  {
   "cell_type": "code",
   "execution_count": 66,
   "metadata": {
    "id": "z1luC-NTWvQ2"
   },
   "outputs": [],
   "source": [
    "def generate_submission(model, test_loader):\n",
    "    filename = f\"submission-{params}-{time}.csv\"\n",
    "    model.eval()\n",
    "    ids = []\n",
    "    preds = []\n",
    "\n",
    "    with torch.no_grad():\n",
    "        for images, idxs in test_loader:\n",
    "            images = images.to(device)\n",
    "            outputs = model(images)\n",
    "            _, predicted = torch.max(outputs, 1)\n",
    "\n",
    "            # Convert tensors to plain integers\n",
    "            ids.extend([int(i) for i in idxs])\n",
    "            preds.extend([int(p) for p in predicted])\n",
    "\n",
    "    submission_df = pd.DataFrame({\"ID\": ids, \"Labels\": preds})\n",
    "    submission_df.to_csv(filename, index=False)\n",
    "    print(f\"Submission saved to {filename}!\")"
   ]
  },
  {
   "cell_type": "code",
   "execution_count": 67,
   "metadata": {
    "colab": {
     "base_uri": "https://localhost:8080/"
    },
    "id": "2BAF101XWw6W",
    "outputId": "564d11c1-1563-466d-d1da-6428c80f02de"
   },
   "outputs": [
    {
     "name": "stdout",
     "output_type": "stream",
     "text": [
      "Submission saved to submission-5M-110320252112.csv!\n"
     ]
    }
   ],
   "source": [
    "generate_submission(model, unlabeled_test_loader)"
   ]
  }
 ],
 "metadata": {
  "accelerator": "GPU",
  "colab": {
   "gpuType": "T4",
   "provenance": [],
   "toc_visible": true
  },
  "kernelspec": {
   "display_name": "Python 3 (ipykernel)",
   "language": "python",
   "name": "python3"
  },
  "language_info": {
   "codemirror_mode": {
    "name": "ipython",
    "version": 3
   },
   "file_extension": ".py",
   "mimetype": "text/x-python",
   "name": "python",
   "nbconvert_exporter": "python",
   "pygments_lexer": "ipython3",
   "version": "3.9.18"
  }
 },
 "nbformat": 4,
 "nbformat_minor": 4
}
