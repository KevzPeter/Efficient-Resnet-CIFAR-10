{
 "cells": [
  {
   "cell_type": "code",
   "execution_count": 1,
   "metadata": {
    "id": "o7-y0qVDEpyx"
   },
   "outputs": [],
   "source": [
    "import numpy as np\n",
    "import pandas as pd\n",
    "import torch\n",
    "import torch.nn as nn\n",
    "import torch.optim as optim\n",
    "import torch.nn.functional as F\n",
    "import torchvision\n",
    "import torchvision.transforms as transforms\n",
    "from torch.utils.data import DataLoader, random_split, Dataset\n",
    "import matplotlib.pyplot as plt\n",
    "import os\n",
    "from PIL import Image\n",
    "import pickle\n",
    "from torchvision.transforms import ToPILImage, RandomErasing, ColorJitter\n",
    "from torchsummary import summary\n",
    "from datetime import datetime\n",
    "from millify import millify\n",
    "import random"
   ]
  },
  {
   "cell_type": "code",
   "execution_count": null,
   "metadata": {
    "colab": {
     "base_uri": "https://localhost:8080/"
    },
    "id": "yN48h5X-lgVW",
    "outputId": "a5da4b74-131e-4812-8c38-09f6f76ed87b"
   },
   "outputs": [
    {
     "name": "stdout",
     "output_type": "stream",
     "text": [
      "Archive:  deep-learning-spring-2025-project-1.zip\n",
      "  inflating: cifar-10-python/cifar-10-batches-py/batches.meta  \n",
      "  inflating: cifar-10-python/cifar-10-batches-py/data_batch_1  \n",
      "  inflating: cifar-10-python/cifar-10-batches-py/data_batch_2  \n",
      "  inflating: cifar-10-python/cifar-10-batches-py/data_batch_3  \n",
      "  inflating: cifar-10-python/cifar-10-batches-py/data_batch_4  \n",
      "  inflating: cifar-10-python/cifar-10-batches-py/data_batch_5  \n",
      "  inflating: cifar-10-python/cifar-10-batches-py/readme.html  \n",
      "  inflating: cifar-10-python/cifar-10-batches-py/test_batch  \n",
      "  inflating: cifar_test_nolabel.pkl  \n"
     ]
    }
   ],
   "source": [
    "!unzip deep-learning-spring-2025-project-1.zip"
   ]
  },
  {
   "cell_type": "code",
   "execution_count": 2,
   "metadata": {
    "id": "yY5dty-ZluYk"
   },
   "outputs": [],
   "source": [
    "# Path to the directory containing extracted CIFAR-10 batch files\n",
    "DATA_PATH = './cifar-10-python/cifar-10-batches-py'"
   ]
  },
  {
   "cell_type": "code",
   "execution_count": 3,
   "metadata": {
    "colab": {
     "base_uri": "https://localhost:8080/"
    },
    "id": "T3abaoH_mfAg",
    "outputId": "29342a30-2189-4196-d8b2-905fd2892bd0"
   },
   "outputs": [
    {
     "name": "stdout",
     "output_type": "stream",
     "text": [
      "data_batch_1\n",
      "data_batch_2\n",
      "batches.meta\n",
      "test_batch\n",
      "data_batch_3\n",
      "data_batch_5\n",
      "data_batch_4\n",
      "readme.html\n"
     ]
    }
   ],
   "source": [
    "from os.path import isfile\n",
    "for file in os.listdir(DATA_PATH):\n",
    "    if isfile(os.path.join(DATA_PATH, file)):\n",
    "        print(file)"
   ]
  },
  {
   "cell_type": "code",
   "execution_count": 4,
   "metadata": {
    "colab": {
     "base_uri": "https://localhost:8080/"
    },
    "id": "bp2Izj7-WOCs",
    "outputId": "5c87a5cb-ac79-4ac1-8702-9c83aae5edd0"
   },
   "outputs": [
    {
     "name": "stdout",
     "output_type": "stream",
     "text": [
      "Using device: cuda\n"
     ]
    }
   ],
   "source": [
    "device = torch.device(\"cuda\" if torch.cuda.is_available() else \"cpu\")\n",
    "print(f\"Using device: {device}\")"
   ]
  },
  {
   "cell_type": "code",
   "execution_count": 5,
   "metadata": {
    "id": "7ueVlp0_l8rX"
   },
   "outputs": [],
   "source": [
    "def load_batch(batch_file):\n",
    "    with open(batch_file, 'rb') as file:\n",
    "        batch = pickle.load(file, encoding='bytes')\n",
    "    images = batch[b'data']\n",
    "    labels = batch[b'labels']\n",
    "    # Reshape to (N, 3, 32, 32) and scale pixel values to [0,1]\n",
    "    images = images.reshape(-1, 3, 32, 32).astype(np.float32) / 255.0\n",
    "    return images, labels"
   ]
  },
  {
   "cell_type": "code",
   "execution_count": 6,
   "metadata": {
    "colab": {
     "base_uri": "https://localhost:8080/"
    },
    "id": "8LRGQfJSmBg-",
    "outputId": "13448479-00ad-4c27-d79f-7a6371b49bf1"
   },
   "outputs": [
    {
     "name": "stdout",
     "output_type": "stream",
     "text": [
      "Training data shape: (50000, 3, 32, 32), Training labels shape: (50000,)\n"
     ]
    }
   ],
   "source": [
    "train_images = []\n",
    "train_labels = []\n",
    "\n",
    "for i in range(1, 6):\n",
    "    batch_file = os.path.join(DATA_PATH, f'data_batch_{i}')\n",
    "    images, labels = load_batch(batch_file)\n",
    "    train_images.append(images)\n",
    "    train_labels.extend(labels)\n",
    "\n",
    "train_images = np.concatenate(train_images)\n",
    "train_labels = np.array(train_labels)\n",
    "\n",
    "print(f'Training data shape: {train_images.shape}, Training labels shape: {train_labels.shape}')"
   ]
  },
  {
   "cell_type": "code",
   "execution_count": 7,
   "metadata": {
    "colab": {
     "base_uri": "https://localhost:8080/"
    },
    "id": "FYYCnNVqraXX",
    "outputId": "75984bfe-1411-4ea7-8004-6abe37122edb"
   },
   "outputs": [
    {
     "name": "stdout",
     "output_type": "stream",
     "text": [
      "Test data shape: (10000, 3, 32, 32)\n"
     ]
    }
   ],
   "source": [
    "test_batch_file = os.path.join(DATA_PATH, 'test_batch')\n",
    "test_images, test_labels = load_batch(test_batch_file)\n",
    "print(f'Test data shape: {test_images.shape}')"
   ]
  },
  {
   "cell_type": "code",
   "execution_count": 41,
   "metadata": {
    "id": "O-dj7aqrWQAr"
   },
   "outputs": [],
   "source": [
    "train_transform = transforms.Compose([\n",
    "    transforms.RandomCrop(32, padding=4),\n",
    "    # transforms.RandomResizedCrop(32),\n",
    "    # transforms.RandomHorizontalFlip(p=0.5),\n",
    "    transforms.RandomHorizontalFlip(),\n",
    "    # transforms.ColorJitter(brightness=0.2, contrast=0.2, saturation=0.2, hue=0.1),\n",
    "    # transforms.RandomRotation(15),\n",
    "    transforms.ToTensor(),\n",
    "    transforms.Normalize(mean=[0.4914, 0.4822, 0.4465],\n",
    "                         std=[0.247, 0.243, 0.261]),\n",
    "    # RandomErasing(p=0.5, scale=(0.02, 0.33), ratio=(0.3, 3.3))\n",
    "])"
   ]
  },
  {
   "cell_type": "code",
   "execution_count": 42,
   "metadata": {
    "id": "j9ReMfu6pc8_"
   },
   "outputs": [],
   "source": [
    "test_transform = transforms.Compose([\n",
    "    transforms.ToTensor(),\n",
    "    transforms.Normalize(mean=[0.4914, 0.4822, 0.4465],\n",
    "                         std=[0.247, 0.243, 0.261]),\n",
    "])"
   ]
  },
  {
   "cell_type": "code",
   "execution_count": 43,
   "metadata": {
    "id": "oypBYk6Gm6e0"
   },
   "outputs": [],
   "source": [
    "class CIFARDataset(Dataset):\n",
    "    def __init__(self, images, labels=None, transform=None):\n",
    "        # images: already scaled numpy arrays of shape (N, 3, 32, 32)\n",
    "        self.images = torch.tensor(images).float()  # shape: (N,3,32,32)\n",
    "        self.labels = torch.tensor(labels) if labels is not None else None\n",
    "        self.transform = transform\n",
    "\n",
    "    def __len__(self):\n",
    "        return len(self.images)\n",
    "\n",
    "    def __getitem__(self, idx):\n",
    "        # Get the image (and label if available)\n",
    "        image = self.images[idx]\n",
    "        # If a transform is provided, convert to PIL image and apply it.\n",
    "        if self.transform:\n",
    "            image = ToPILImage()(image)\n",
    "            image = self.transform(image)\n",
    "        if self.labels is not None:\n",
    "            label = self.labels[idx]\n",
    "            return image, label\n",
    "        return image"
   ]
  },
  {
   "cell_type": "code",
   "execution_count": 46,
   "metadata": {},
   "outputs": [],
   "source": [
    "# Use the entire training dataset for training\n",
    "train_dataset = CIFARDataset(train_images, train_labels, transform=train_transform)\n",
    "train_loader = DataLoader(train_dataset, batch_size=128, shuffle=True, num_workers=8, pin_memory=True)\n",
    "\n",
    "# Use the test dataset for validation\n",
    "val_dataset = CIFARDataset(test_images, test_labels, transform=test_transform)\n",
    "val_loader = DataLoader(val_dataset, batch_size=128, shuffle=False, num_workers=8, pin_memory=True)"
   ]
  },
  {
   "cell_type": "code",
   "execution_count": null,
   "metadata": {
    "id": "m_BgAZCqm2Km"
   },
   "outputs": [],
   "source": [
    "test_dataset = CIFARDataset(test_images, test_labels, transform=test_transform)\n",
    "test_loader = DataLoader(test_dataset, batch_size=128, shuffle=False, num_workers=8, pin_memory=True)"
   ]
  },
  {
   "cell_type": "code",
   "execution_count": 48,
   "metadata": {
    "id": "Zr3RQdD94lrN"
   },
   "outputs": [],
   "source": [
    "class ResidualBlockWithDropout(nn.Module):\n",
    "    def __init__(self, in_channels, out_channels, stride=1, dropout_prob=0.2):\n",
    "        super(ResidualBlockWithDropout, self).__init__()\n",
    "        self.conv1 = nn.Conv2d(in_channels, out_channels, kernel_size=3, stride=stride, padding=1)\n",
    "        self.bn1   = nn.BatchNorm2d(out_channels)\n",
    "        self.conv2 = nn.Conv2d(out_channels, out_channels, kernel_size=3, stride=1, padding=1)\n",
    "        self.bn2   = nn.BatchNorm2d(out_channels)\n",
    "        self.dropout = nn.Dropout2d(dropout_prob)\n",
    "\n",
    "        self.skip = nn.Sequential()\n",
    "        if stride != 1 or in_channels != out_channels:\n",
    "            self.skip = nn.Sequential(\n",
    "                nn.Conv2d(in_channels, out_channels, kernel_size=1, stride=stride),\n",
    "                nn.BatchNorm2d(out_channels)\n",
    "            )\n",
    "\n",
    "    def forward(self, x):\n",
    "        identity = self.skip(x)\n",
    "        out = F.relu(self.bn1(self.conv1(x)))\n",
    "        out = self.dropout(out)\n",
    "        out = self.bn2(self.conv2(out))\n",
    "        out += identity\n",
    "        return F.relu(out)"
   ]
  },
  {
   "cell_type": "code",
   "execution_count": 49,
   "metadata": {
    "id": "BeiB6s4U4n2H"
   },
   "outputs": [],
   "source": [
    "class ModifiedResNetWithDropout(nn.Module):\n",
    "    def __init__(self, num_classes=10, dropout_prob=0.4):\n",
    "        super(ModifiedResNetWithDropout, self).__init__()\n",
    "        self.init_conv = nn.Conv2d(3, 64, kernel_size=3, stride=1, padding=1)\n",
    "        self.bn        = nn.BatchNorm2d(64)\n",
    "        self.relu      = nn.ReLU()\n",
    "        self.layer1    = self._make_layer(64, 64, blocks=4, stride=1, dropout_prob=dropout_prob)\n",
    "        self.layer2    = self._make_layer(64, 128, blocks=4, stride=2, dropout_prob=dropout_prob)\n",
    "        self.layer3    = self._make_layer(128, 256, blocks=3, stride=2, dropout_prob=dropout_prob)\n",
    "        self.avg_pool  = nn.AdaptiveAvgPool2d((1, 1))\n",
    "        self.fc        = nn.Linear(256, num_classes)\n",
    "\n",
    "    def _make_layer(self, in_channels, out_channels, blocks, stride, dropout_prob):\n",
    "        layers = [ResidualBlockWithDropout(in_channels, out_channels, stride, dropout_prob)]\n",
    "        for _ in range(1, blocks):\n",
    "            layers.append(ResidualBlockWithDropout(out_channels, out_channels, dropout_prob=dropout_prob))\n",
    "        return nn.Sequential(*layers)\n",
    "\n",
    "    def forward(self, x):\n",
    "        x = self.relu(self.bn(self.init_conv(x)))\n",
    "        x = self.layer1(x)\n",
    "        x = self.layer2(x)\n",
    "        x = self.layer3(x)\n",
    "        x = self.avg_pool(x)\n",
    "        x = torch.flatten(x, 1)\n",
    "        return self.fc(x)"
   ]
  },
  {
   "cell_type": "code",
   "execution_count": null,
   "metadata": {
    "colab": {
     "base_uri": "https://localhost:8080/"
    },
    "id": "KNcttQB9WnSG",
    "outputId": "ec3b6189-66c2-47ef-8ab1-0c99f9b079b2"
   },
   "outputs": [
    {
     "name": "stdout",
     "output_type": "stream",
     "text": [
      "----------------------------------------------------------------\n",
      "        Layer (type)               Output Shape         Param #\n",
      "================================================================\n",
      "            Conv2d-1           [-1, 64, 32, 32]           1,792\n",
      "       BatchNorm2d-2           [-1, 64, 32, 32]             128\n",
      "              ReLU-3           [-1, 64, 32, 32]               0\n",
      "            Conv2d-4           [-1, 64, 32, 32]          36,928\n",
      "       BatchNorm2d-5           [-1, 64, 32, 32]             128\n",
      "         Dropout2d-6           [-1, 64, 32, 32]               0\n",
      "            Conv2d-7           [-1, 64, 32, 32]          36,928\n",
      "       BatchNorm2d-8           [-1, 64, 32, 32]             128\n",
      "ResidualBlockWithDropout-9           [-1, 64, 32, 32]               0\n",
      "           Conv2d-10           [-1, 64, 32, 32]          36,928\n",
      "      BatchNorm2d-11           [-1, 64, 32, 32]             128\n",
      "        Dropout2d-12           [-1, 64, 32, 32]               0\n",
      "           Conv2d-13           [-1, 64, 32, 32]          36,928\n",
      "      BatchNorm2d-14           [-1, 64, 32, 32]             128\n",
      "ResidualBlockWithDropout-15           [-1, 64, 32, 32]               0\n",
      "           Conv2d-16           [-1, 64, 32, 32]          36,928\n",
      "      BatchNorm2d-17           [-1, 64, 32, 32]             128\n",
      "        Dropout2d-18           [-1, 64, 32, 32]               0\n",
      "           Conv2d-19           [-1, 64, 32, 32]          36,928\n",
      "      BatchNorm2d-20           [-1, 64, 32, 32]             128\n",
      "ResidualBlockWithDropout-21           [-1, 64, 32, 32]               0\n",
      "           Conv2d-22           [-1, 64, 32, 32]          36,928\n",
      "      BatchNorm2d-23           [-1, 64, 32, 32]             128\n",
      "        Dropout2d-24           [-1, 64, 32, 32]               0\n",
      "           Conv2d-25           [-1, 64, 32, 32]          36,928\n",
      "      BatchNorm2d-26           [-1, 64, 32, 32]             128\n",
      "ResidualBlockWithDropout-27           [-1, 64, 32, 32]               0\n",
      "           Conv2d-28          [-1, 128, 16, 16]           8,320\n",
      "      BatchNorm2d-29          [-1, 128, 16, 16]             256\n",
      "           Conv2d-30          [-1, 128, 16, 16]          73,856\n",
      "      BatchNorm2d-31          [-1, 128, 16, 16]             256\n",
      "        Dropout2d-32          [-1, 128, 16, 16]               0\n",
      "           Conv2d-33          [-1, 128, 16, 16]         147,584\n",
      "      BatchNorm2d-34          [-1, 128, 16, 16]             256\n",
      "ResidualBlockWithDropout-35          [-1, 128, 16, 16]               0\n",
      "           Conv2d-36          [-1, 128, 16, 16]         147,584\n",
      "      BatchNorm2d-37          [-1, 128, 16, 16]             256\n",
      "        Dropout2d-38          [-1, 128, 16, 16]               0\n",
      "           Conv2d-39          [-1, 128, 16, 16]         147,584\n",
      "      BatchNorm2d-40          [-1, 128, 16, 16]             256\n",
      "ResidualBlockWithDropout-41          [-1, 128, 16, 16]               0\n",
      "           Conv2d-42          [-1, 128, 16, 16]         147,584\n",
      "      BatchNorm2d-43          [-1, 128, 16, 16]             256\n",
      "        Dropout2d-44          [-1, 128, 16, 16]               0\n",
      "           Conv2d-45          [-1, 128, 16, 16]         147,584\n",
      "      BatchNorm2d-46          [-1, 128, 16, 16]             256\n",
      "ResidualBlockWithDropout-47          [-1, 128, 16, 16]               0\n",
      "           Conv2d-48          [-1, 128, 16, 16]         147,584\n",
      "      BatchNorm2d-49          [-1, 128, 16, 16]             256\n",
      "        Dropout2d-50          [-1, 128, 16, 16]               0\n",
      "           Conv2d-51          [-1, 128, 16, 16]         147,584\n",
      "      BatchNorm2d-52          [-1, 128, 16, 16]             256\n",
      "ResidualBlockWithDropout-53          [-1, 128, 16, 16]               0\n",
      "           Conv2d-54            [-1, 256, 8, 8]          33,024\n",
      "      BatchNorm2d-55            [-1, 256, 8, 8]             512\n",
      "           Conv2d-56            [-1, 256, 8, 8]         295,168\n",
      "      BatchNorm2d-57            [-1, 256, 8, 8]             512\n",
      "        Dropout2d-58            [-1, 256, 8, 8]               0\n",
      "           Conv2d-59            [-1, 256, 8, 8]         590,080\n",
      "      BatchNorm2d-60            [-1, 256, 8, 8]             512\n",
      "ResidualBlockWithDropout-61            [-1, 256, 8, 8]               0\n",
      "           Conv2d-62            [-1, 256, 8, 8]         590,080\n",
      "      BatchNorm2d-63            [-1, 256, 8, 8]             512\n",
      "        Dropout2d-64            [-1, 256, 8, 8]               0\n",
      "           Conv2d-65            [-1, 256, 8, 8]         590,080\n",
      "      BatchNorm2d-66            [-1, 256, 8, 8]             512\n",
      "ResidualBlockWithDropout-67            [-1, 256, 8, 8]               0\n",
      "           Conv2d-68            [-1, 256, 8, 8]         590,080\n",
      "      BatchNorm2d-69            [-1, 256, 8, 8]             512\n",
      "        Dropout2d-70            [-1, 256, 8, 8]               0\n",
      "           Conv2d-71            [-1, 256, 8, 8]         590,080\n",
      "      BatchNorm2d-72            [-1, 256, 8, 8]             512\n",
      "ResidualBlockWithDropout-73            [-1, 256, 8, 8]               0\n",
      "AdaptiveAvgPool2d-74            [-1, 256, 1, 1]               0\n",
      "           Linear-75                   [-1, 10]           2,570\n",
      "================================================================\n",
      "Total params: 4,700,682\n",
      "Trainable params: 4,700,682\n",
      "Non-trainable params: 0\n",
      "----------------------------------------------------------------\n",
      "Input size (MB): 0.01\n",
      "Forward/backward pass size (MB): 22.50\n",
      "Params size (MB): 17.93\n",
      "Estimated Total Size (MB): 40.45\n",
      "----------------------------------------------------------------\n"
     ]
    }
   ],
   "source": [
    "model = ModifiedResNetWithDropout(num_classes=10, dropout_prob=0.4).to(device)\n",
    "summary(model, (3, 32, 32))"
   ]
  },
  {
   "cell_type": "code",
   "execution_count": 51,
   "metadata": {
    "colab": {
     "base_uri": "https://localhost:8080/"
    },
    "id": "KYdehvYHqV49",
    "outputId": "eee91d41-6d1e-4659-a547-3c4f1c351c74"
   },
   "outputs": [
    {
     "name": "stdout",
     "output_type": "stream",
     "text": [
      "Total trainable parameters: 4700682\n"
     ]
    }
   ],
   "source": [
    "total_params = sum(p.numel() for p in model.parameters() if p.requires_grad)\n",
    "print(f\"Total trainable parameters: {total_params}\")\n",
    "if total_params > 5e6:\n",
    "    print(\"WARNING: Your model exceeds 5 million parameters!\")"
   ]
  },
  {
   "cell_type": "code",
   "execution_count": 56,
   "metadata": {},
   "outputs": [],
   "source": [
    "time = datetime.now().strftime(\"%d%m%Y%H%M\")\n",
    "params = millify(total_params)"
   ]
  },
  {
   "cell_type": "code",
   "execution_count": 57,
   "metadata": {
    "id": "J5ydpDqkWlpF"
   },
   "outputs": [],
   "source": [
    "def evaluate(model, loader):\n",
    "    model.eval()\n",
    "    correct, total = 0, 0\n",
    "    with torch.no_grad():\n",
    "        for images, labels in loader:\n",
    "            images, labels = images.to(device), labels.to(device)\n",
    "            outputs = model(images)\n",
    "            _, preds = torch.max(outputs, 1)\n",
    "            correct += (preds == labels).sum().item()\n",
    "            total += labels.size(0)\n",
    "    return correct / total"
   ]
  },
  {
   "cell_type": "code",
   "execution_count": 58,
   "metadata": {},
   "outputs": [],
   "source": [
    "def train_model(model, train_loader, val_loader, test_loader, epochs=100, lr=0.1, checkpoint_path=f'checkpoint-{params}-{time}.pth', resume=False):\n",
    "    device = torch.device(\"cuda\" if torch.cuda.is_available() else \"cpu\")\n",
    "    model.to(device)\n",
    "    \n",
    "    criterion = nn.CrossEntropyLoss()\n",
    "    optimizer = torch.optim.SGD(model.parameters(), lr=lr, momentum=0.9, weight_decay=5e-4)\n",
    "    scheduler = torch.optim.lr_scheduler.CosineAnnealingLR(optimizer, T_max=epochs, eta_min=1e-5)\n",
    "    \n",
    "    start_epoch = 0\n",
    "    if resume and os.path.exists(checkpoint_path):\n",
    "        print(f\"Resuming from checkpoint {checkpoint_path}\")\n",
    "        checkpoint = torch.load(checkpoint_path, map_location=device)\n",
    "        model.load_state_dict(checkpoint['model_state_dict'])\n",
    "        optimizer.load_state_dict(checkpoint['optimizer_state_dict'])\n",
    "        scheduler.load_state_dict(checkpoint['scheduler_state_dict'])\n",
    "        start_epoch = checkpoint['epoch'] + 1  # continue from next epoch\n",
    "\n",
    "    train_losses, val_accuracies, test_accuracies = [], [], []\n",
    "    \n",
    "    for epoch in range(start_epoch, epochs):\n",
    "        model.train()\n",
    "        running_loss = 0.0\n",
    "\n",
    "        for images, labels in train_loader:\n",
    "            images, labels = images.to(device), labels.to(device)\n",
    "\n",
    "            optimizer.zero_grad()\n",
    "            outputs = model(images)\n",
    "            loss = criterion(outputs, labels)\n",
    "            loss.backward()\n",
    "            optimizer.step()\n",
    "\n",
    "            running_loss += loss.item()\n",
    "\n",
    "        avg_loss = running_loss / len(train_loader)\n",
    "        train_losses.append(avg_loss)\n",
    "\n",
    "        val_acc = evaluate(model, val_loader)\n",
    "        val_accuracies.append(val_acc)\n",
    "\n",
    "        test_acc = evaluate(model, test_loader)\n",
    "        test_accuracies.append(test_acc)\n",
    "\n",
    "        scheduler.step()\n",
    "\n",
    "        print(f\"Epoch {epoch+1}/{epochs} - Loss: {avg_loss:.4f} - Val Acc: {val_acc:.4f} - Test Acc: {test_acc:.4f}\")\n",
    "\n",
    "        # Save checkpoint after each epoch\n",
    "        checkpoint = {\n",
    "            'epoch': epoch,\n",
    "            'model_state_dict': model.state_dict(),\n",
    "            'optimizer_state_dict': optimizer.state_dict(),\n",
    "            'scheduler_state_dict': scheduler.state_dict(),\n",
    "            'loss': avg_loss\n",
    "        }\n",
    "        torch.save(checkpoint, checkpoint_path)\n",
    "    \n",
    "    return train_losses, val_accuracies, test_accuracies"
   ]
  },
  {
   "cell_type": "code",
   "execution_count": null,
   "metadata": {
    "colab": {
     "base_uri": "https://localhost:8080/",
     "height": 783
    },
    "id": "SoDrQTFhnuJF",
    "outputId": "74911b8a-0b81-49ce-b124-9244985e464c"
   },
   "outputs": [
    {
     "name": "stdout",
     "output_type": "stream",
     "text": [
      "Epoch 1/120 - Loss: 1.8587 - Val Acc: 0.3765 - Test Acc: 0.3765\n",
      "Epoch 2/120 - Loss: 1.5479 - Val Acc: 0.4845 - Test Acc: 0.4845\n",
      "Epoch 3/120 - Loss: 1.3297 - Val Acc: 0.5730 - Test Acc: 0.5730\n",
      "Epoch 4/120 - Loss: 1.1480 - Val Acc: 0.6482 - Test Acc: 0.6482\n",
      "Epoch 5/120 - Loss: 1.0386 - Val Acc: 0.6421 - Test Acc: 0.6421\n",
      "Epoch 6/120 - Loss: 0.9682 - Val Acc: 0.6642 - Test Acc: 0.6642\n",
      "Epoch 7/120 - Loss: 0.9069 - Val Acc: 0.7211 - Test Acc: 0.7211\n",
      "Epoch 8/120 - Loss: 0.8583 - Val Acc: 0.7297 - Test Acc: 0.7297\n",
      "Epoch 9/120 - Loss: 0.7998 - Val Acc: 0.7463 - Test Acc: 0.7463\n",
      "Epoch 10/120 - Loss: 0.7539 - Val Acc: 0.7745 - Test Acc: 0.7745\n",
      "Epoch 11/120 - Loss: 0.7201 - Val Acc: 0.7790 - Test Acc: 0.7790\n",
      "Epoch 12/120 - Loss: 0.6877 - Val Acc: 0.7606 - Test Acc: 0.7606\n",
      "Epoch 13/120 - Loss: 0.6677 - Val Acc: 0.7783 - Test Acc: 0.7783\n",
      "Epoch 14/120 - Loss: 0.6534 - Val Acc: 0.8030 - Test Acc: 0.8030\n",
      "Epoch 15/120 - Loss: 0.6253 - Val Acc: 0.8011 - Test Acc: 0.8011\n",
      "Epoch 16/120 - Loss: 0.6173 - Val Acc: 0.8280 - Test Acc: 0.8280\n",
      "Epoch 17/120 - Loss: 0.6042 - Val Acc: 0.8047 - Test Acc: 0.8047\n",
      "Epoch 18/120 - Loss: 0.5960 - Val Acc: 0.8384 - Test Acc: 0.8384\n",
      "Epoch 19/120 - Loss: 0.5854 - Val Acc: 0.7866 - Test Acc: 0.7866\n",
      "Epoch 20/120 - Loss: 0.5798 - Val Acc: 0.8148 - Test Acc: 0.8148\n",
      "Epoch 21/120 - Loss: 0.5679 - Val Acc: 0.8245 - Test Acc: 0.8245\n",
      "Epoch 22/120 - Loss: 0.5632 - Val Acc: 0.8118 - Test Acc: 0.8118\n",
      "Epoch 23/120 - Loss: 0.5573 - Val Acc: 0.8427 - Test Acc: 0.8427\n",
      "Epoch 24/120 - Loss: 0.5483 - Val Acc: 0.8299 - Test Acc: 0.8299\n",
      "Epoch 25/120 - Loss: 0.5424 - Val Acc: 0.8545 - Test Acc: 0.8545\n",
      "Epoch 26/120 - Loss: 0.5359 - Val Acc: 0.8399 - Test Acc: 0.8399\n",
      "Epoch 27/120 - Loss: 0.5295 - Val Acc: 0.8179 - Test Acc: 0.8179\n",
      "Epoch 28/120 - Loss: 0.5209 - Val Acc: 0.8576 - Test Acc: 0.8576\n",
      "Epoch 29/120 - Loss: 0.5235 - Val Acc: 0.8539 - Test Acc: 0.8539\n",
      "Epoch 30/120 - Loss: 0.5142 - Val Acc: 0.8403 - Test Acc: 0.8403\n",
      "Epoch 31/120 - Loss: 0.5133 - Val Acc: 0.8541 - Test Acc: 0.8541\n",
      "Epoch 32/120 - Loss: 0.5048 - Val Acc: 0.8395 - Test Acc: 0.8395\n",
      "Epoch 33/120 - Loss: 0.4979 - Val Acc: 0.8428 - Test Acc: 0.8428\n",
      "Epoch 34/120 - Loss: 0.4957 - Val Acc: 0.8530 - Test Acc: 0.8530\n",
      "Epoch 35/120 - Loss: 0.4947 - Val Acc: 0.8370 - Test Acc: 0.8370\n",
      "Epoch 36/120 - Loss: 0.4808 - Val Acc: 0.8542 - Test Acc: 0.8542\n",
      "Epoch 37/120 - Loss: 0.4829 - Val Acc: 0.8490 - Test Acc: 0.8490\n",
      "Epoch 38/120 - Loss: 0.4820 - Val Acc: 0.8515 - Test Acc: 0.8515\n",
      "Epoch 39/120 - Loss: 0.4746 - Val Acc: 0.8589 - Test Acc: 0.8589\n",
      "Epoch 40/120 - Loss: 0.4657 - Val Acc: 0.8765 - Test Acc: 0.8765\n",
      "Epoch 41/120 - Loss: 0.4649 - Val Acc: 0.8667 - Test Acc: 0.8667\n",
      "Epoch 42/120 - Loss: 0.4634 - Val Acc: 0.8522 - Test Acc: 0.8522\n",
      "Epoch 43/120 - Loss: 0.4575 - Val Acc: 0.8610 - Test Acc: 0.8610\n",
      "Epoch 44/120 - Loss: 0.4541 - Val Acc: 0.8689 - Test Acc: 0.8689\n",
      "Epoch 45/120 - Loss: 0.4476 - Val Acc: 0.8605 - Test Acc: 0.8605\n",
      "Epoch 46/120 - Loss: 0.4408 - Val Acc: 0.8606 - Test Acc: 0.8606\n",
      "Epoch 47/120 - Loss: 0.4407 - Val Acc: 0.8638 - Test Acc: 0.8638\n",
      "Epoch 48/120 - Loss: 0.4344 - Val Acc: 0.8533 - Test Acc: 0.8533\n",
      "Epoch 49/120 - Loss: 0.4257 - Val Acc: 0.8689 - Test Acc: 0.8689\n",
      "Epoch 50/120 - Loss: 0.4248 - Val Acc: 0.8689 - Test Acc: 0.8689\n",
      "Epoch 51/120 - Loss: 0.4240 - Val Acc: 0.8737 - Test Acc: 0.8737\n",
      "Epoch 52/120 - Loss: 0.4145 - Val Acc: 0.8730 - Test Acc: 0.8730\n",
      "Epoch 53/120 - Loss: 0.4118 - Val Acc: 0.8745 - Test Acc: 0.8745\n",
      "Epoch 54/120 - Loss: 0.4095 - Val Acc: 0.8629 - Test Acc: 0.8629\n",
      "Epoch 55/120 - Loss: 0.3997 - Val Acc: 0.8565 - Test Acc: 0.8565\n",
      "Epoch 56/120 - Loss: 0.3946 - Val Acc: 0.8739 - Test Acc: 0.8739\n",
      "Epoch 57/120 - Loss: 0.3891 - Val Acc: 0.8782 - Test Acc: 0.8782\n",
      "Epoch 58/120 - Loss: 0.3882 - Val Acc: 0.8840 - Test Acc: 0.8840\n",
      "Epoch 59/120 - Loss: 0.3874 - Val Acc: 0.8883 - Test Acc: 0.8883\n",
      "Epoch 60/120 - Loss: 0.3802 - Val Acc: 0.8744 - Test Acc: 0.8744\n",
      "Epoch 61/120 - Loss: 0.3715 - Val Acc: 0.8871 - Test Acc: 0.8871\n",
      "Epoch 62/120 - Loss: 0.3729 - Val Acc: 0.8928 - Test Acc: 0.8928\n",
      "Epoch 63/120 - Loss: 0.3630 - Val Acc: 0.8884 - Test Acc: 0.8884\n",
      "Epoch 64/120 - Loss: 0.3568 - Val Acc: 0.8924 - Test Acc: 0.8924\n",
      "Epoch 65/120 - Loss: 0.3555 - Val Acc: 0.8910 - Test Acc: 0.8910\n",
      "Epoch 66/120 - Loss: 0.3432 - Val Acc: 0.8932 - Test Acc: 0.8932\n",
      "Epoch 67/120 - Loss: 0.3423 - Val Acc: 0.8914 - Test Acc: 0.8914\n",
      "Epoch 68/120 - Loss: 0.3398 - Val Acc: 0.9002 - Test Acc: 0.9002\n",
      "Epoch 69/120 - Loss: 0.3310 - Val Acc: 0.8980 - Test Acc: 0.8980\n",
      "Epoch 70/120 - Loss: 0.3186 - Val Acc: 0.9054 - Test Acc: 0.9054\n",
      "Epoch 71/120 - Loss: 0.3186 - Val Acc: 0.8925 - Test Acc: 0.8925\n",
      "Epoch 72/120 - Loss: 0.3130 - Val Acc: 0.9027 - Test Acc: 0.9027\n",
      "Epoch 73/120 - Loss: 0.3027 - Val Acc: 0.9056 - Test Acc: 0.9056\n",
      "Epoch 74/120 - Loss: 0.2979 - Val Acc: 0.9131 - Test Acc: 0.9131\n",
      "Epoch 75/120 - Loss: 0.2957 - Val Acc: 0.9118 - Test Acc: 0.9118\n",
      "Epoch 76/120 - Loss: 0.2874 - Val Acc: 0.9094 - Test Acc: 0.9094\n",
      "Epoch 77/120 - Loss: 0.2853 - Val Acc: 0.8988 - Test Acc: 0.8988\n",
      "Epoch 78/120 - Loss: 0.2716 - Val Acc: 0.9082 - Test Acc: 0.9082\n",
      "Epoch 79/120 - Loss: 0.2667 - Val Acc: 0.9101 - Test Acc: 0.9101\n",
      "Epoch 80/120 - Loss: 0.2629 - Val Acc: 0.9101 - Test Acc: 0.9101\n",
      "Epoch 81/120 - Loss: 0.2526 - Val Acc: 0.9112 - Test Acc: 0.9112\n",
      "Epoch 82/120 - Loss: 0.2474 - Val Acc: 0.9187 - Test Acc: 0.9187\n",
      "Epoch 83/120 - Loss: 0.2395 - Val Acc: 0.9171 - Test Acc: 0.9171\n",
      "Epoch 84/120 - Loss: 0.2333 - Val Acc: 0.9226 - Test Acc: 0.9226\n",
      "Epoch 85/120 - Loss: 0.2285 - Val Acc: 0.9101 - Test Acc: 0.9101\n",
      "Epoch 86/120 - Loss: 0.2215 - Val Acc: 0.9195 - Test Acc: 0.9195\n",
      "Epoch 87/120 - Loss: 0.2165 - Val Acc: 0.9223 - Test Acc: 0.9223\n",
      "Epoch 88/120 - Loss: 0.2040 - Val Acc: 0.9194 - Test Acc: 0.9194\n",
      "Epoch 89/120 - Loss: 0.2016 - Val Acc: 0.9247 - Test Acc: 0.9247\n",
      "Epoch 90/120 - Loss: 0.1942 - Val Acc: 0.9232 - Test Acc: 0.9232\n",
      "Epoch 91/120 - Loss: 0.1827 - Val Acc: 0.9218 - Test Acc: 0.9218\n",
      "Epoch 92/120 - Loss: 0.1762 - Val Acc: 0.9287 - Test Acc: 0.9287\n",
      "Epoch 93/120 - Loss: 0.1734 - Val Acc: 0.9279 - Test Acc: 0.9279\n",
      "Epoch 94/120 - Loss: 0.1634 - Val Acc: 0.9333 - Test Acc: 0.9333\n",
      "Epoch 95/120 - Loss: 0.1507 - Val Acc: 0.9309 - Test Acc: 0.9309\n",
      "Epoch 96/120 - Loss: 0.1466 - Val Acc: 0.9353 - Test Acc: 0.9353\n",
      "Epoch 97/120 - Loss: 0.1380 - Val Acc: 0.9345 - Test Acc: 0.9345\n",
      "Epoch 98/120 - Loss: 0.1309 - Val Acc: 0.9380 - Test Acc: 0.9380\n",
      "Epoch 99/120 - Loss: 0.1233 - Val Acc: 0.9405 - Test Acc: 0.9405\n",
      "Epoch 100/120 - Loss: 0.1154 - Val Acc: 0.9388 - Test Acc: 0.9388\n",
      "Epoch 101/120 - Loss: 0.1103 - Val Acc: 0.9422 - Test Acc: 0.9422\n",
      "Epoch 102/120 - Loss: 0.1030 - Val Acc: 0.9401 - Test Acc: 0.9401\n",
      "Epoch 103/120 - Loss: 0.0961 - Val Acc: 0.9412 - Test Acc: 0.9412\n",
      "Epoch 104/120 - Loss: 0.0900 - Val Acc: 0.9431 - Test Acc: 0.9431\n",
      "Epoch 105/120 - Loss: 0.0836 - Val Acc: 0.9439 - Test Acc: 0.9439\n",
      "Epoch 106/120 - Loss: 0.0799 - Val Acc: 0.9443 - Test Acc: 0.9443\n",
      "Epoch 107/120 - Loss: 0.0728 - Val Acc: 0.9445 - Test Acc: 0.9445\n",
      "Epoch 108/120 - Loss: 0.0672 - Val Acc: 0.9452 - Test Acc: 0.9452\n",
      "Epoch 109/120 - Loss: 0.0656 - Val Acc: 0.9471 - Test Acc: 0.9471\n",
      "Epoch 110/120 - Loss: 0.0618 - Val Acc: 0.9471 - Test Acc: 0.9471\n",
      "Epoch 111/120 - Loss: 0.0601 - Val Acc: 0.9470 - Test Acc: 0.9470\n",
      "Epoch 112/120 - Loss: 0.0546 - Val Acc: 0.9476 - Test Acc: 0.9476\n",
      "Epoch 113/120 - Loss: 0.0552 - Val Acc: 0.9483 - Test Acc: 0.9483\n",
      "Epoch 114/120 - Loss: 0.0534 - Val Acc: 0.9484 - Test Acc: 0.9484\n",
      "Epoch 115/120 - Loss: 0.0509 - Val Acc: 0.9476 - Test Acc: 0.9476\n",
      "Epoch 116/120 - Loss: 0.0513 - Val Acc: 0.9486 - Test Acc: 0.9486\n",
      "Epoch 117/120 - Loss: 0.0493 - Val Acc: 0.9492 - Test Acc: 0.9492\n"
     ]
    }
   ],
   "source": [
    "train_losses, val_accuracies, test_accuracies = train_model(model, train_loader, val_loader, test_loader, epochs=120, lr=0.1, resume=False)"
   ]
  },
  {
   "cell_type": "code",
   "execution_count": 30,
   "metadata": {
    "id": "Eqi-xJMJWx8W"
   },
   "outputs": [],
   "source": [
    "save_model_name = f\"modified-resnet-cifar10-{params}-{time}.pth\"\n",
    "torch.save(model.state_dict(), save_model_name)"
   ]
  },
  {
   "cell_type": "code",
   "execution_count": 31,
   "metadata": {
    "id": "ZIeiC07fsOU2"
   },
   "outputs": [],
   "source": [
    "def plot_metrics(train_losses, val_accuracies, test_accuracies):\n",
    "    epochs = len(train_losses)\n",
    "    epochs_range = range(1, epochs + 1)\n",
    "    plt.figure(figsize=(15, 5))\n",
    "\n",
    "    # Plot Training Loss\n",
    "    plt.subplot(1, 3, 1)\n",
    "    plt.plot(epochs_range, train_losses, label=\"Train Loss\", marker='o')\n",
    "    plt.xlabel(\"Epoch\")\n",
    "    plt.ylabel(\"Loss\")\n",
    "    plt.title(\"Training Loss\")\n",
    "    plt.legend()\n",
    "\n",
    "    # Plot Validation Accuracy\n",
    "    plt.subplot(1, 3, 2)\n",
    "    plt.plot(epochs_range, val_accuracies, label=\"Validation Accuracy\", color=\"green\", marker='o')\n",
    "    plt.xlabel(\"Epoch\")\n",
    "    plt.ylabel(\"Accuracy\")\n",
    "    plt.title(\"Validation Accuracy\")\n",
    "    plt.legend()\n",
    "\n",
    "    # Plot Test Accuracy\n",
    "    plt.subplot(1, 3, 3)\n",
    "    plt.plot(epochs_range, test_accuracies, label=\"Test Accuracy\", color=\"red\", marker='o')\n",
    "    plt.xlabel(\"Epoch\")\n",
    "    plt.ylabel(\"Accuracy\")\n",
    "    plt.title(\"Test Accuracy\")\n",
    "    plt.legend()\n",
    "\n",
    "    plt.tight_layout()\n",
    "    plt.show()"
   ]
  },
  {
   "cell_type": "code",
   "execution_count": 32,
   "metadata": {
    "colab": {
     "base_uri": "https://localhost:8080/",
     "height": 402
    },
    "id": "uqWQ4McrsT_4",
    "outputId": "fadf3266-270e-491d-a75f-02bb0b22c0df"
   },
   "outputs": [
    {
     "data": {
      "image/png": "[encoded data removed]",
      "text/plain": [
       "<Figure size 1500x500 with 3 Axes>"
      ]
     },
     "metadata": {},
     "output_type": "display_data"
    }
   ],
   "source": [
    "plot_metrics(train_losses, val_accuracies, test_accuracies)"
   ]
  },
  {
   "cell_type": "code",
   "execution_count": 33,
   "metadata": {
    "id": "vKRZEfitoMwy"
   },
   "outputs": [],
   "source": [
    "class CIFARTestNoLabelDataset(Dataset):\n",
    "    def __init__(self, pickle_file, transform=None):\n",
    "        with open(pickle_file, 'rb') as f:\n",
    "            data = pickle.load(f, encoding='bytes')\n",
    "        # raw_data is in shape (N, 32, 32, 3)\n",
    "        raw_data = data[b'data']\n",
    "        # Transpose to (N, 3, 32, 32) and scale to [0,1]\n",
    "        self.images = raw_data.transpose(0, 3, 1, 2).astype(np.float32) / 255.0\n",
    "\n",
    "        # Optionally use provided IDs, otherwise we'll default to indices\n",
    "        self.ids = data.get(b'ids', None)\n",
    "        self.transform = transform\n",
    "\n",
    "    def __len__(self):\n",
    "        return len(self.images)\n",
    "\n",
    "    def __getitem__(self, idx):\n",
    "        image = torch.tensor(self.images[idx]).float()\n",
    "        if self.transform:\n",
    "            image = ToPILImage()(image)\n",
    "            image = self.transform(image)\n",
    "        # Use the id from the file if available, otherwise use the index.\n",
    "        if self.ids is not None:\n",
    "            # Assuming ids are stored as a list of bytes or strings.\n",
    "            id_val = self.ids[idx]\n",
    "            # Convert bytes to string if necessary\n",
    "            if isinstance(id_val, bytes):\n",
    "                id_val = id_val.decode('utf-8')\n",
    "        else:\n",
    "            id_val = idx\n",
    "        return image, id_val"
   ]
  },
  {
   "cell_type": "code",
   "execution_count": 34,
   "metadata": {
    "id": "zDD6DE8koPMO"
   },
   "outputs": [],
   "source": [
    "unlabeled_test_dataset = CIFARTestNoLabelDataset('cifar_test_nolabel.pkl', transform=test_transform)\n",
    "unlabeled_test_loader = DataLoader(unlabeled_test_dataset, batch_size=128, shuffle=False, num_workers=8, pin_memory=True)"
   ]
  },
  {
   "cell_type": "code",
   "execution_count": 35,
   "metadata": {},
   "outputs": [],
   "source": [
    "class_names = ['airplane', 'automobile', 'bird', 'cat', 'deer', 'dog', 'frog', 'horse', 'ship', 'truck']"
   ]
  },
  {
   "cell_type": "code",
   "execution_count": 38,
   "metadata": {},
   "outputs": [],
   "source": [
    "mean = torch.tensor([0.4914, 0.4822, 0.4465]).view(3, 1, 1)\n",
    "std = torch.tensor([0.247, 0.243, 0.261]).view(3, 1, 1)\n",
    "\n",
    "def unnormalize(tensor):\n",
    "    \"\"\"Unnormalizes a batch of images\"\"\"\n",
    "    return tensor * std.to(tensor.device) + mean.to(tensor.device)\n",
    "\n",
    "def show_random_predictions(model, test_dataset, class_names, num_images=5):\n",
    "    model.eval()\n",
    "\n",
    "    # Randomly select `num_images` images from the dataset\n",
    "    indices = random.sample(range(len(test_dataset)), num_images)\n",
    "    images, ids = zip(*[test_dataset[i] for i in indices])  # Extract images and IDs\n",
    "    \n",
    "    images_tensor = torch.stack(images).to(device)  # Convert list to tensor and move to GPU\n",
    "    \n",
    "    with torch.no_grad():\n",
    "        outputs = model(images_tensor)\n",
    "        _, predicted_labels = torch.max(outputs, 1)\n",
    "\n",
    "    # Unnormalize images for correct visualization\n",
    "    unnormalized_images = unnormalize(images_tensor).cpu().clamp(0, 1)  # Ensure values are in [0,1]\n",
    "    \n",
    "    # Convert images back to NumPy for visualization\n",
    "    images_np = [transforms.ToPILImage()(img) for img in unnormalized_images]\n",
    "    \n",
    "    # Display images with predictions\n",
    "    fig, axes = plt.subplots(1, num_images, figsize=(8, 5))\n",
    "    for i in range(num_images):\n",
    "        axes[i].imshow(images_np[i])\n",
    "        axes[i].axis(\"off\")\n",
    "        axes[i].set_title(f\"Pred: {class_names[predicted_labels[i].item()]}\")\n",
    "\n",
    "    plt.show()"
   ]
  },
  {
   "cell_type": "code",
   "execution_count": 39,
   "metadata": {},
   "outputs": [
    {
     "data": {
      "image/png": "[encoded data removed]",
      "text/plain": [
       "<Figure size 800x500 with 5 Axes>"
      ]
     },
     "metadata": {},
     "output_type": "display_data"
    }
   ],
   "source": [
    "show_random_predictions(model, unlabeled_test_dataset, class_names)"
   ]
  },
  {
   "cell_type": "code",
   "execution_count": 36,
   "metadata": {
    "id": "z1luC-NTWvQ2"
   },
   "outputs": [],
   "source": [
    "def generate_submission(model, test_loader):\n",
    "    filename = f\"submission-{params}-{time}.csv\"\n",
    "    model.eval()\n",
    "    ids = []\n",
    "    preds = []\n",
    "\n",
    "    with torch.no_grad():\n",
    "        for images, idxs in test_loader:\n",
    "            images = images.to(device)\n",
    "            outputs = model(images)\n",
    "            _, predicted = torch.max(outputs, 1)\n",
    "\n",
    "            # Convert tensors to plain integers\n",
    "            ids.extend([int(i) for i in idxs])\n",
    "            preds.extend([int(p) for p in predicted])\n",
    "\n",
    "    submission_df = pd.DataFrame({\"ID\": ids, \"Labels\": preds})\n",
    "    submission_df.to_csv(filename, index=False)\n",
    "    print(f\"Submission saved to {filename}!\")"
   ]
  },
  {
   "cell_type": "code",
   "execution_count": 37,
   "metadata": {
    "colab": {
     "base_uri": "https://localhost:8080/"
    },
    "id": "2BAF101XWw6W",
    "outputId": "564d11c1-1563-466d-d1da-6428c80f02de"
   },
   "outputs": [
    {
     "name": "stdout",
     "output_type": "stream",
     "text": [
      "Submission saved to submission-5M-100320251325.csv!\n"
     ]
    }
   ],
   "source": [
    "generate_submission(model, unlabeled_test_loader)"
   ]
  }
 ],
 "metadata": {
  "accelerator": "GPU",
  "colab": {
   "gpuType": "T4",
   "provenance": [],
   "toc_visible": true
  },
  "kernelspec": {
   "display_name": "Python 3 (ipykernel)",
   "language": "python",
   "name": "python3"
  },
  "language_info": {
   "codemirror_mode": {
    "name": "ipython",
    "version": 3
   },
   "file_extension": ".py",
   "mimetype": "text/x-python",
   "name": "python",
   "nbconvert_exporter": "python",
   "pygments_lexer": "ipython3",
   "version": "3.9.18"
  }
 },
 "nbformat": 4,
 "nbformat_minor": 4
}
